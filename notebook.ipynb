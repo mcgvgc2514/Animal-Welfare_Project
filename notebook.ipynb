{
 "cells": [
  {
   "cell_type": "markdown",
   "metadata": {
    "_cell_guid": "e3c3ec0b-211d-4d5c-a2bd-4d814df32045",
    "_uuid": "6bc2c6a1346e5d183c20a85fdca45449c757752d"
   },
   "source": [
    "Pull in the Data first into Pandas DataFrame:"
   ]
  },
  {
   "cell_type": "code",
   "execution_count": 6,
   "metadata": {
    "_cell_guid": "ddd3b578-829a-49cf-8bbe-db19f0d94323",
    "_uuid": "c496cca3f860fde21b395187e8d51bded8b7aeb2"
   },
   "outputs": [
    {
     "data": {
      "text/html": [
       "<div>\n",
       "<style>\n",
       "    .dataframe thead tr:only-child th {\n",
       "        text-align: right;\n",
       "    }\n",
       "\n",
       "    .dataframe thead th {\n",
       "        text-align: left;\n",
       "    }\n",
       "\n",
       "    .dataframe tbody tr th {\n",
       "        vertical-align: top;\n",
       "    }\n",
       "</style>\n",
       "<table border=\"1\" class=\"dataframe\">\n",
       "  <thead>\n",
       "    <tr style=\"text-align: right;\">\n",
       "      <th></th>\n",
       "      <th>age_upon_outcome</th>\n",
       "      <th>animal_id</th>\n",
       "      <th>animal_type</th>\n",
       "      <th>breed</th>\n",
       "      <th>color</th>\n",
       "      <th>date_of_birth</th>\n",
       "      <th>datetime</th>\n",
       "      <th>monthyear</th>\n",
       "      <th>name</th>\n",
       "      <th>outcome_subtype</th>\n",
       "      <th>outcome_type</th>\n",
       "      <th>sex_upon_outcome</th>\n",
       "    </tr>\n",
       "  </thead>\n",
       "  <tbody>\n",
       "    <tr>\n",
       "      <th>0</th>\n",
       "      <td>2 weeks</td>\n",
       "      <td>A684346</td>\n",
       "      <td>Cat</td>\n",
       "      <td>Domestic Shorthair Mix</td>\n",
       "      <td>Orange Tabby</td>\n",
       "      <td>2014-07-07T00:00:00</td>\n",
       "      <td>2014-07-22T16:04:00</td>\n",
       "      <td>2014-07-22T16:04:00</td>\n",
       "      <td>NaN</td>\n",
       "      <td>Partner</td>\n",
       "      <td>Transfer</td>\n",
       "      <td>Intact Male</td>\n",
       "    </tr>\n",
       "    <tr>\n",
       "      <th>1</th>\n",
       "      <td>1 year</td>\n",
       "      <td>A666430</td>\n",
       "      <td>Dog</td>\n",
       "      <td>Beagle Mix</td>\n",
       "      <td>White/Brown</td>\n",
       "      <td>2012-11-06T00:00:00</td>\n",
       "      <td>2013-11-07T11:47:00</td>\n",
       "      <td>2013-11-07T11:47:00</td>\n",
       "      <td>Lucy</td>\n",
       "      <td>Partner</td>\n",
       "      <td>Transfer</td>\n",
       "      <td>Spayed Female</td>\n",
       "    </tr>\n",
       "    <tr>\n",
       "      <th>2</th>\n",
       "      <td>1 year</td>\n",
       "      <td>A675708</td>\n",
       "      <td>Dog</td>\n",
       "      <td>Pit Bull</td>\n",
       "      <td>Blue/White</td>\n",
       "      <td>2013-03-31T00:00:00</td>\n",
       "      <td>2014-06-03T14:20:00</td>\n",
       "      <td>2014-06-03T14:20:00</td>\n",
       "      <td>*Johnny</td>\n",
       "      <td>NaN</td>\n",
       "      <td>Adoption</td>\n",
       "      <td>Neutered Male</td>\n",
       "    </tr>\n",
       "    <tr>\n",
       "      <th>3</th>\n",
       "      <td>9 years</td>\n",
       "      <td>A680386</td>\n",
       "      <td>Dog</td>\n",
       "      <td>Miniature Schnauzer Mix</td>\n",
       "      <td>White</td>\n",
       "      <td>2005-06-02T00:00:00</td>\n",
       "      <td>2014-06-15T15:50:00</td>\n",
       "      <td>2014-06-15T15:50:00</td>\n",
       "      <td>Monday</td>\n",
       "      <td>Partner</td>\n",
       "      <td>Transfer</td>\n",
       "      <td>Neutered Male</td>\n",
       "    </tr>\n",
       "    <tr>\n",
       "      <th>4</th>\n",
       "      <td>5 months</td>\n",
       "      <td>A683115</td>\n",
       "      <td>Other</td>\n",
       "      <td>Bat Mix</td>\n",
       "      <td>Brown</td>\n",
       "      <td>2014-01-07T00:00:00</td>\n",
       "      <td>2014-07-07T14:04:00</td>\n",
       "      <td>2014-07-07T14:04:00</td>\n",
       "      <td>NaN</td>\n",
       "      <td>Rabies Risk</td>\n",
       "      <td>Euthanasia</td>\n",
       "      <td>Unknown</td>\n",
       "    </tr>\n",
       "    <tr>\n",
       "      <th>5</th>\n",
       "      <td>4 months</td>\n",
       "      <td>A664462</td>\n",
       "      <td>Dog</td>\n",
       "      <td>Leonberger Mix</td>\n",
       "      <td>Brown/White</td>\n",
       "      <td>2013-06-03T00:00:00</td>\n",
       "      <td>2013-10-07T13:06:00</td>\n",
       "      <td>2013-10-07T13:06:00</td>\n",
       "      <td>*Edgar</td>\n",
       "      <td>Partner</td>\n",
       "      <td>Transfer</td>\n",
       "      <td>Intact Male</td>\n",
       "    </tr>\n",
       "    <tr>\n",
       "      <th>6</th>\n",
       "      <td>1 year</td>\n",
       "      <td>A693700</td>\n",
       "      <td>Other</td>\n",
       "      <td>Squirrel Mix</td>\n",
       "      <td>Tan</td>\n",
       "      <td>2013-12-13T00:00:00</td>\n",
       "      <td>2014-12-13T12:20:00</td>\n",
       "      <td>2014-12-13T12:20:00</td>\n",
       "      <td>NaN</td>\n",
       "      <td>Suffering</td>\n",
       "      <td>Euthanasia</td>\n",
       "      <td>Unknown</td>\n",
       "    </tr>\n",
       "    <tr>\n",
       "      <th>7</th>\n",
       "      <td>3 years</td>\n",
       "      <td>A692618</td>\n",
       "      <td>Dog</td>\n",
       "      <td>Chihuahua Shorthair Mix</td>\n",
       "      <td>Brown</td>\n",
       "      <td>2011-11-23T00:00:00</td>\n",
       "      <td>2014-12-08T15:55:00</td>\n",
       "      <td>2014-12-08T15:55:00</td>\n",
       "      <td>*Ella</td>\n",
       "      <td>Partner</td>\n",
       "      <td>Transfer</td>\n",
       "      <td>Spayed Female</td>\n",
       "    </tr>\n",
       "    <tr>\n",
       "      <th>8</th>\n",
       "      <td>1 month</td>\n",
       "      <td>A685067</td>\n",
       "      <td>Cat</td>\n",
       "      <td>Domestic Shorthair Mix</td>\n",
       "      <td>Blue Tabby/White</td>\n",
       "      <td>2014-06-16T00:00:00</td>\n",
       "      <td>2014-08-14T18:45:00</td>\n",
       "      <td>2014-08-14T18:45:00</td>\n",
       "      <td>Lucy</td>\n",
       "      <td>NaN</td>\n",
       "      <td>Adoption</td>\n",
       "      <td>Intact Female</td>\n",
       "    </tr>\n",
       "    <tr>\n",
       "      <th>9</th>\n",
       "      <td>3 months</td>\n",
       "      <td>A678580</td>\n",
       "      <td>Cat</td>\n",
       "      <td>Domestic Shorthair Mix</td>\n",
       "      <td>White/Black</td>\n",
       "      <td>2014-03-26T00:00:00</td>\n",
       "      <td>2014-06-29T17:45:00</td>\n",
       "      <td>2014-06-29T17:45:00</td>\n",
       "      <td>*Frida</td>\n",
       "      <td>Offsite</td>\n",
       "      <td>Adoption</td>\n",
       "      <td>Spayed Female</td>\n",
       "    </tr>\n",
       "    <tr>\n",
       "      <th>10</th>\n",
       "      <td>1 year</td>\n",
       "      <td>A675405</td>\n",
       "      <td>Cat</td>\n",
       "      <td>Domestic Medium Hair Mix</td>\n",
       "      <td>Black/White</td>\n",
       "      <td>2013-03-27T00:00:00</td>\n",
       "      <td>2014-03-28T14:55:00</td>\n",
       "      <td>2014-03-28T14:55:00</td>\n",
       "      <td>Stella Luna</td>\n",
       "      <td>NaN</td>\n",
       "      <td>Return to Owner</td>\n",
       "      <td>Spayed Female</td>\n",
       "    </tr>\n",
       "    <tr>\n",
       "      <th>11</th>\n",
       "      <td>2 years</td>\n",
       "      <td>A673652</td>\n",
       "      <td>Dog</td>\n",
       "      <td>Papillon/Border Collie</td>\n",
       "      <td>Black/White</td>\n",
       "      <td>2012-02-28T00:00:00</td>\n",
       "      <td>2014-03-28T14:39:00</td>\n",
       "      <td>2014-03-28T14:39:00</td>\n",
       "      <td>Fancy</td>\n",
       "      <td>Partner</td>\n",
       "      <td>Transfer</td>\n",
       "      <td>Neutered Male</td>\n",
       "    </tr>\n",
       "    <tr>\n",
       "      <th>12</th>\n",
       "      <td>2 months</td>\n",
       "      <td>A677679</td>\n",
       "      <td>Dog</td>\n",
       "      <td>Chihuahua Shorthair/Pomeranian</td>\n",
       "      <td>Black</td>\n",
       "      <td>2014-03-07T00:00:00</td>\n",
       "      <td>2014-05-26T19:10:00</td>\n",
       "      <td>2014-05-26T19:10:00</td>\n",
       "      <td>Kash</td>\n",
       "      <td>Foster</td>\n",
       "      <td>Adoption</td>\n",
       "      <td>Neutered Male</td>\n",
       "    </tr>\n",
       "    <tr>\n",
       "      <th>13</th>\n",
       "      <td>4 years</td>\n",
       "      <td>A640655</td>\n",
       "      <td>Dog</td>\n",
       "      <td>Miniature Schnauzer/Miniature Poodle</td>\n",
       "      <td>White</td>\n",
       "      <td>2009-04-27T00:00:00</td>\n",
       "      <td>2014-04-25T11:17:00</td>\n",
       "      <td>2014-04-25T11:17:00</td>\n",
       "      <td>Sandy</td>\n",
       "      <td>NaN</td>\n",
       "      <td>Return to Owner</td>\n",
       "      <td>Spayed Female</td>\n",
       "    </tr>\n",
       "    <tr>\n",
       "      <th>14</th>\n",
       "      <td>8 years</td>\n",
       "      <td>A690350</td>\n",
       "      <td>Dog</td>\n",
       "      <td>Labrador Retriever Mix</td>\n",
       "      <td>Black</td>\n",
       "      <td>2006-10-18T00:00:00</td>\n",
       "      <td>2014-10-26T18:20:00</td>\n",
       "      <td>2014-10-26T18:20:00</td>\n",
       "      <td>Shy</td>\n",
       "      <td>NaN</td>\n",
       "      <td>Return to Owner</td>\n",
       "      <td>Neutered Male</td>\n",
       "    </tr>\n",
       "    <tr>\n",
       "      <th>15</th>\n",
       "      <td>2 years</td>\n",
       "      <td>A680396</td>\n",
       "      <td>Dog</td>\n",
       "      <td>Rat Terrier Mix</td>\n",
       "      <td>White/Black</td>\n",
       "      <td>2012-06-02T00:00:00</td>\n",
       "      <td>2014-06-15T15:11:00</td>\n",
       "      <td>2014-06-15T15:11:00</td>\n",
       "      <td>*Truman</td>\n",
       "      <td>Partner</td>\n",
       "      <td>Transfer</td>\n",
       "      <td>Neutered Male</td>\n",
       "    </tr>\n",
       "    <tr>\n",
       "      <th>16</th>\n",
       "      <td>1 year</td>\n",
       "      <td>A674298</td>\n",
       "      <td>Dog</td>\n",
       "      <td>Pit Bull Mix</td>\n",
       "      <td>Brown Brindle/White</td>\n",
       "      <td>2013-03-11T00:00:00</td>\n",
       "      <td>2014-04-16T12:51:00</td>\n",
       "      <td>2014-04-16T12:51:00</td>\n",
       "      <td>*Newt</td>\n",
       "      <td>Partner</td>\n",
       "      <td>Transfer</td>\n",
       "      <td>Neutered Male</td>\n",
       "    </tr>\n",
       "    <tr>\n",
       "      <th>17</th>\n",
       "      <td>3 weeks</td>\n",
       "      <td>A670420</td>\n",
       "      <td>Cat</td>\n",
       "      <td>Domestic Shorthair Mix</td>\n",
       "      <td>Black/White</td>\n",
       "      <td>2013-12-16T00:00:00</td>\n",
       "      <td>2014-01-09T19:29:00</td>\n",
       "      <td>2014-01-09T19:29:00</td>\n",
       "      <td>NaN</td>\n",
       "      <td>Partner</td>\n",
       "      <td>Transfer</td>\n",
       "      <td>Intact Male</td>\n",
       "    </tr>\n",
       "    <tr>\n",
       "      <th>18</th>\n",
       "      <td>2 months</td>\n",
       "      <td>A692378</td>\n",
       "      <td>Dog</td>\n",
       "      <td>German Shepherd/Labrador Retriever</td>\n",
       "      <td>Black/White</td>\n",
       "      <td>2014-10-19T00:00:00</td>\n",
       "      <td>2014-12-21T18:20:00</td>\n",
       "      <td>2014-12-21T18:20:00</td>\n",
       "      <td>*Bonnie</td>\n",
       "      <td>Foster</td>\n",
       "      <td>Adoption</td>\n",
       "      <td>Spayed Female</td>\n",
       "    </tr>\n",
       "    <tr>\n",
       "      <th>19</th>\n",
       "      <td>2 months</td>\n",
       "      <td>A684460</td>\n",
       "      <td>Cat</td>\n",
       "      <td>Domestic Shorthair Mix</td>\n",
       "      <td>Brown Tabby</td>\n",
       "      <td>2014-06-02T00:00:00</td>\n",
       "      <td>2014-08-13T15:04:00</td>\n",
       "      <td>2014-08-13T15:04:00</td>\n",
       "      <td>Elsa</td>\n",
       "      <td>NaN</td>\n",
       "      <td>Adoption</td>\n",
       "      <td>Spayed Female</td>\n",
       "    </tr>\n",
       "  </tbody>\n",
       "</table>\n",
       "</div>"
      ],
      "text/plain": [
       "   age_upon_outcome animal_id animal_type  \\\n",
       "0           2 weeks   A684346         Cat   \n",
       "1            1 year   A666430         Dog   \n",
       "2            1 year   A675708         Dog   \n",
       "3           9 years   A680386         Dog   \n",
       "4          5 months   A683115       Other   \n",
       "5          4 months   A664462         Dog   \n",
       "6            1 year   A693700       Other   \n",
       "7           3 years   A692618         Dog   \n",
       "8           1 month   A685067         Cat   \n",
       "9          3 months   A678580         Cat   \n",
       "10           1 year   A675405         Cat   \n",
       "11          2 years   A673652         Dog   \n",
       "12         2 months   A677679         Dog   \n",
       "13          4 years   A640655         Dog   \n",
       "14          8 years   A690350         Dog   \n",
       "15          2 years   A680396         Dog   \n",
       "16           1 year   A674298         Dog   \n",
       "17          3 weeks   A670420         Cat   \n",
       "18         2 months   A692378         Dog   \n",
       "19         2 months   A684460         Cat   \n",
       "\n",
       "                                   breed                color  \\\n",
       "0                 Domestic Shorthair Mix         Orange Tabby   \n",
       "1                             Beagle Mix          White/Brown   \n",
       "2                               Pit Bull           Blue/White   \n",
       "3                Miniature Schnauzer Mix                White   \n",
       "4                                Bat Mix                Brown   \n",
       "5                         Leonberger Mix          Brown/White   \n",
       "6                           Squirrel Mix                  Tan   \n",
       "7                Chihuahua Shorthair Mix                Brown   \n",
       "8                 Domestic Shorthair Mix     Blue Tabby/White   \n",
       "9                 Domestic Shorthair Mix          White/Black   \n",
       "10              Domestic Medium Hair Mix          Black/White   \n",
       "11                Papillon/Border Collie          Black/White   \n",
       "12        Chihuahua Shorthair/Pomeranian                Black   \n",
       "13  Miniature Schnauzer/Miniature Poodle                White   \n",
       "14                Labrador Retriever Mix                Black   \n",
       "15                       Rat Terrier Mix          White/Black   \n",
       "16                          Pit Bull Mix  Brown Brindle/White   \n",
       "17                Domestic Shorthair Mix          Black/White   \n",
       "18    German Shepherd/Labrador Retriever          Black/White   \n",
       "19                Domestic Shorthair Mix          Brown Tabby   \n",
       "\n",
       "          date_of_birth             datetime            monthyear  \\\n",
       "0   2014-07-07T00:00:00  2014-07-22T16:04:00  2014-07-22T16:04:00   \n",
       "1   2012-11-06T00:00:00  2013-11-07T11:47:00  2013-11-07T11:47:00   \n",
       "2   2013-03-31T00:00:00  2014-06-03T14:20:00  2014-06-03T14:20:00   \n",
       "3   2005-06-02T00:00:00  2014-06-15T15:50:00  2014-06-15T15:50:00   \n",
       "4   2014-01-07T00:00:00  2014-07-07T14:04:00  2014-07-07T14:04:00   \n",
       "5   2013-06-03T00:00:00  2013-10-07T13:06:00  2013-10-07T13:06:00   \n",
       "6   2013-12-13T00:00:00  2014-12-13T12:20:00  2014-12-13T12:20:00   \n",
       "7   2011-11-23T00:00:00  2014-12-08T15:55:00  2014-12-08T15:55:00   \n",
       "8   2014-06-16T00:00:00  2014-08-14T18:45:00  2014-08-14T18:45:00   \n",
       "9   2014-03-26T00:00:00  2014-06-29T17:45:00  2014-06-29T17:45:00   \n",
       "10  2013-03-27T00:00:00  2014-03-28T14:55:00  2014-03-28T14:55:00   \n",
       "11  2012-02-28T00:00:00  2014-03-28T14:39:00  2014-03-28T14:39:00   \n",
       "12  2014-03-07T00:00:00  2014-05-26T19:10:00  2014-05-26T19:10:00   \n",
       "13  2009-04-27T00:00:00  2014-04-25T11:17:00  2014-04-25T11:17:00   \n",
       "14  2006-10-18T00:00:00  2014-10-26T18:20:00  2014-10-26T18:20:00   \n",
       "15  2012-06-02T00:00:00  2014-06-15T15:11:00  2014-06-15T15:11:00   \n",
       "16  2013-03-11T00:00:00  2014-04-16T12:51:00  2014-04-16T12:51:00   \n",
       "17  2013-12-16T00:00:00  2014-01-09T19:29:00  2014-01-09T19:29:00   \n",
       "18  2014-10-19T00:00:00  2014-12-21T18:20:00  2014-12-21T18:20:00   \n",
       "19  2014-06-02T00:00:00  2014-08-13T15:04:00  2014-08-13T15:04:00   \n",
       "\n",
       "           name outcome_subtype     outcome_type sex_upon_outcome  \n",
       "0           NaN         Partner         Transfer      Intact Male  \n",
       "1          Lucy         Partner         Transfer    Spayed Female  \n",
       "2       *Johnny             NaN         Adoption    Neutered Male  \n",
       "3        Monday         Partner         Transfer    Neutered Male  \n",
       "4           NaN     Rabies Risk       Euthanasia          Unknown  \n",
       "5        *Edgar         Partner         Transfer      Intact Male  \n",
       "6           NaN       Suffering       Euthanasia          Unknown  \n",
       "7         *Ella         Partner         Transfer    Spayed Female  \n",
       "8          Lucy             NaN         Adoption    Intact Female  \n",
       "9        *Frida         Offsite         Adoption    Spayed Female  \n",
       "10  Stella Luna             NaN  Return to Owner    Spayed Female  \n",
       "11        Fancy         Partner         Transfer    Neutered Male  \n",
       "12         Kash          Foster         Adoption    Neutered Male  \n",
       "13        Sandy             NaN  Return to Owner    Spayed Female  \n",
       "14          Shy             NaN  Return to Owner    Neutered Male  \n",
       "15      *Truman         Partner         Transfer    Neutered Male  \n",
       "16        *Newt         Partner         Transfer    Neutered Male  \n",
       "17          NaN         Partner         Transfer      Intact Male  \n",
       "18      *Bonnie          Foster         Adoption    Spayed Female  \n",
       "19         Elsa             NaN         Adoption    Spayed Female  "
      ]
     },
     "execution_count": 6,
     "metadata": {},
     "output_type": "execute_result"
    }
   ],
   "source": [
    "import pandas as pd\n",
    "\n",
    "ShelterDF = pd.read_csv('aac_shelter_outcomes.csv')\n",
    "ShelterDF.head(20)"
   ]
  },
  {
   "cell_type": "markdown",
   "metadata": {
    "_cell_guid": "5737f76b-3813-4f9f-8555-79e4de5aef3e",
    "_uuid": "3da1233ac88e0b3629d51f6b0dfc9e6abae0b535"
   },
   "source": [
    "The basic question we are trying to answer is: what are the major factors for an animal's outcome?  \n",
    "The intended audience/cleint is: the animal shelter and anyone involved with animal welfare.\n",
    "\n",
    "A few ideas for what factors will best predict an animal's outcome:\n",
    "Age, Animal Type, Breed, Color, Name, Outcome Subtype, and Sex"
   ]
  },
  {
   "cell_type": "markdown",
   "metadata": {
    "_cell_guid": "4405351b-6b88-440d-bbe3-8b23eedc23de",
    "_uuid": "e4fae77d345f224533fbc5fef2ff00b418c28b00"
   },
   "source": [
    "Pull up the basic info about this DataFrame, and we are looking for how many blank or \"null\" entries we are dealing with:"
   ]
  },
  {
   "cell_type": "code",
   "execution_count": 7,
   "metadata": {
    "_cell_guid": "79c7e3d0-c299-4dcb-8224-4455121ee9b0",
    "_uuid": "d629ff2d2480ee46fbb7e2d37f6b5fab8052498a",
    "scrolled": true
   },
   "outputs": [
    {
     "name": "stdout",
     "output_type": "stream",
     "text": [
      "<class 'pandas.core.frame.DataFrame'>\n",
      "RangeIndex: 78256 entries, 0 to 78255\n",
      "Data columns (total 12 columns):\n",
      "age_upon_outcome    78248 non-null object\n",
      "animal_id           78256 non-null object\n",
      "animal_type         78256 non-null object\n",
      "breed               78256 non-null object\n",
      "color               78256 non-null object\n",
      "date_of_birth       78256 non-null object\n",
      "datetime            78256 non-null object\n",
      "monthyear           78256 non-null object\n",
      "name                54370 non-null object\n",
      "outcome_subtype     35963 non-null object\n",
      "outcome_type        78244 non-null object\n",
      "sex_upon_outcome    78254 non-null object\n",
      "dtypes: object(12)\n",
      "memory usage: 7.2+ MB\n"
     ]
    }
   ],
   "source": [
    "ShelterDF.info()"
   ]
  },
  {
   "cell_type": "markdown",
   "metadata": {
    "_cell_guid": "4c80be89-a457-4b3a-96e7-05cfdef3074c",
    "_uuid": "b2cd6e50ee878fc179ae12dfa747dc7c2d68f1a2"
   },
   "source": [
    "Another way to look at it:"
   ]
  },
  {
   "cell_type": "code",
   "execution_count": 8,
   "metadata": {
    "_cell_guid": "6f61e79d-cfe4-4b2e-ac34-75849bf06504",
    "_uuid": "1d9eac1eaf830f498dd9bedd9f276b16bf606b7a"
   },
   "outputs": [
    {
     "name": "stdout",
     "output_type": "stream",
     "text": [
      "Total number of Null Values for Each Column:\n"
     ]
    },
    {
     "data": {
      "text/plain": [
       "age_upon_outcome        8\n",
       "animal_id               0\n",
       "animal_type             0\n",
       "breed                   0\n",
       "color                   0\n",
       "date_of_birth           0\n",
       "datetime                0\n",
       "monthyear               0\n",
       "name                23886\n",
       "outcome_subtype     42293\n",
       "outcome_type           12\n",
       "sex_upon_outcome        2\n",
       "dtype: int64"
      ]
     },
     "execution_count": 8,
     "metadata": {},
     "output_type": "execute_result"
    }
   ],
   "source": [
    "print(\"Total number of Null Values for Each Column:\")\n",
    "ShelterDF.isnull().sum()"
   ]
  },
  {
   "cell_type": "markdown",
   "metadata": {
    "_cell_guid": "374e70c7-3b2a-484a-8d45-1afc9ffdef7c",
    "_uuid": "1a5eb2d9e45b643fb930f146061de20ed847f7f4"
   },
   "source": [
    "So it looks like we have 8 missing values for \"age_upon_outcome\", 23886 for \"name\", 42293 for \"outcome_subtype\", 12 for \"outcome_type\", and 2 for \"sex_upon_outcome\"\n",
    "\n",
    "Before we deal with the nulls, let's drop a few columns we know we're not going to use:"
   ]
  },
  {
   "cell_type": "code",
   "execution_count": 9,
   "metadata": {
    "_cell_guid": "d94df650-9d31-4fb3-bb16-152a2b9d8672",
    "_uuid": "1f30562e14a9cf853e768df93b287ebc2f89d19a"
   },
   "outputs": [
    {
     "data": {
      "text/html": [
       "<div>\n",
       "<style>\n",
       "    .dataframe thead tr:only-child th {\n",
       "        text-align: right;\n",
       "    }\n",
       "\n",
       "    .dataframe thead th {\n",
       "        text-align: left;\n",
       "    }\n",
       "\n",
       "    .dataframe tbody tr th {\n",
       "        vertical-align: top;\n",
       "    }\n",
       "</style>\n",
       "<table border=\"1\" class=\"dataframe\">\n",
       "  <thead>\n",
       "    <tr style=\"text-align: right;\">\n",
       "      <th></th>\n",
       "      <th>age_upon_outcome</th>\n",
       "      <th>animal_type</th>\n",
       "      <th>breed</th>\n",
       "      <th>color</th>\n",
       "      <th>name</th>\n",
       "      <th>outcome_subtype</th>\n",
       "      <th>outcome_type</th>\n",
       "      <th>sex_upon_outcome</th>\n",
       "    </tr>\n",
       "  </thead>\n",
       "  <tbody>\n",
       "    <tr>\n",
       "      <th>0</th>\n",
       "      <td>2 weeks</td>\n",
       "      <td>Cat</td>\n",
       "      <td>Domestic Shorthair Mix</td>\n",
       "      <td>Orange Tabby</td>\n",
       "      <td>NaN</td>\n",
       "      <td>Partner</td>\n",
       "      <td>Transfer</td>\n",
       "      <td>Intact Male</td>\n",
       "    </tr>\n",
       "    <tr>\n",
       "      <th>1</th>\n",
       "      <td>1 year</td>\n",
       "      <td>Dog</td>\n",
       "      <td>Beagle Mix</td>\n",
       "      <td>White/Brown</td>\n",
       "      <td>Lucy</td>\n",
       "      <td>Partner</td>\n",
       "      <td>Transfer</td>\n",
       "      <td>Spayed Female</td>\n",
       "    </tr>\n",
       "    <tr>\n",
       "      <th>2</th>\n",
       "      <td>1 year</td>\n",
       "      <td>Dog</td>\n",
       "      <td>Pit Bull</td>\n",
       "      <td>Blue/White</td>\n",
       "      <td>*Johnny</td>\n",
       "      <td>NaN</td>\n",
       "      <td>Adoption</td>\n",
       "      <td>Neutered Male</td>\n",
       "    </tr>\n",
       "    <tr>\n",
       "      <th>3</th>\n",
       "      <td>9 years</td>\n",
       "      <td>Dog</td>\n",
       "      <td>Miniature Schnauzer Mix</td>\n",
       "      <td>White</td>\n",
       "      <td>Monday</td>\n",
       "      <td>Partner</td>\n",
       "      <td>Transfer</td>\n",
       "      <td>Neutered Male</td>\n",
       "    </tr>\n",
       "    <tr>\n",
       "      <th>4</th>\n",
       "      <td>5 months</td>\n",
       "      <td>Other</td>\n",
       "      <td>Bat Mix</td>\n",
       "      <td>Brown</td>\n",
       "      <td>NaN</td>\n",
       "      <td>Rabies Risk</td>\n",
       "      <td>Euthanasia</td>\n",
       "      <td>Unknown</td>\n",
       "    </tr>\n",
       "  </tbody>\n",
       "</table>\n",
       "</div>"
      ],
      "text/plain": [
       "  age_upon_outcome animal_type                    breed         color  \\\n",
       "0          2 weeks         Cat   Domestic Shorthair Mix  Orange Tabby   \n",
       "1           1 year         Dog               Beagle Mix   White/Brown   \n",
       "2           1 year         Dog                 Pit Bull    Blue/White   \n",
       "3          9 years         Dog  Miniature Schnauzer Mix         White   \n",
       "4         5 months       Other                  Bat Mix         Brown   \n",
       "\n",
       "      name outcome_subtype outcome_type sex_upon_outcome  \n",
       "0      NaN         Partner     Transfer      Intact Male  \n",
       "1     Lucy         Partner     Transfer    Spayed Female  \n",
       "2  *Johnny             NaN     Adoption    Neutered Male  \n",
       "3   Monday         Partner     Transfer    Neutered Male  \n",
       "4      NaN     Rabies Risk   Euthanasia          Unknown  "
      ]
     },
     "execution_count": 9,
     "metadata": {},
     "output_type": "execute_result"
    }
   ],
   "source": [
    "ShelterDropDF = ShelterDF[['age_upon_outcome', 'animal_type', 'breed', 'color', 'name', 'outcome_subtype', 'outcome_type', 'sex_upon_outcome']]\n",
    "ShelterDropDF.head()"
   ]
  },
  {
   "cell_type": "markdown",
   "metadata": {
    "_cell_guid": "403d0259-47a3-426a-8a2e-79746f68c5ea",
    "_uuid": "75212f228b498bd3e90ad87b0b9409e0e6777cb0"
   },
   "source": [
    "We won't be using animal_id, date_of_birth (since we already have their age at outcome), datetime and monthyear(not sure what these two columns represent, and there was no description provided in Kaggle's Metadata)\n",
    "\n",
    "Now let's have another look at the nulls for our updated DataFrame:"
   ]
  },
  {
   "cell_type": "code",
   "execution_count": 10,
   "metadata": {
    "_cell_guid": "6009fdd9-e6c8-4fa0-bd01-e85c2f8daa7f",
    "_uuid": "076e3aa2f8bc9f21a555b0d248a25c91bd2c88ab"
   },
   "outputs": [
    {
     "name": "stdout",
     "output_type": "stream",
     "text": [
      "Total number of Null Values for Each Column:\n"
     ]
    },
    {
     "data": {
      "text/plain": [
       "age_upon_outcome        8\n",
       "animal_type             0\n",
       "breed                   0\n",
       "color                   0\n",
       "name                23886\n",
       "outcome_subtype     42293\n",
       "outcome_type           12\n",
       "sex_upon_outcome        2\n",
       "dtype: int64"
      ]
     },
     "execution_count": 10,
     "metadata": {},
     "output_type": "execute_result"
    }
   ],
   "source": [
    "print(\"Total number of Null Values for Each Column:\")\n",
    "ShelterDropDF.isnull().sum()"
   ]
  },
  {
   "cell_type": "markdown",
   "metadata": {
    "_cell_guid": "fbac5dad-d05d-4a1d-835e-21d9158e861a",
    "_uuid": "e7fefea92899dc65e32e4bc2bf7d3662768819b7"
   },
   "source": [
    "Let's drop all null rows for outcome_type:"
   ]
  },
  {
   "cell_type": "code",
   "execution_count": 11,
   "metadata": {
    "_cell_guid": "e90bf6ae-47ea-4529-9948-b9c6c7f05f8e",
    "_uuid": "c000ae41956c324120c4212b5cfc01334f4388f6"
   },
   "outputs": [
    {
     "data": {
      "text/plain": [
       "age_upon_outcome        6\n",
       "animal_type             0\n",
       "breed                   0\n",
       "color                   0\n",
       "name                23881\n",
       "outcome_subtype     42281\n",
       "outcome_type            0\n",
       "sex_upon_outcome        1\n",
       "dtype: int64"
      ]
     },
     "execution_count": 11,
     "metadata": {},
     "output_type": "execute_result"
    }
   ],
   "source": [
    "ShelterDropDF = ShelterDropDF.dropna(subset=['outcome_type']) \n",
    "ShelterDropDF.isnull().sum()"
   ]
  },
  {
   "cell_type": "markdown",
   "metadata": {
    "_cell_guid": "ecd6cafb-82a1-4183-b9c6-633141f18588",
    "_uuid": "1fcb8725948d700d394d89025ec9096caf42e57d"
   },
   "source": [
    "Now, let's run a correlation chart to see if we can find some insights through our EDA:"
   ]
  },
  {
   "cell_type": "code",
   "execution_count": 12,
   "metadata": {
    "_cell_guid": "c7f6f68b-776a-44d8-b3aa-af9e5760a26f",
    "_uuid": "34ebf33fd2f99f1225d3ce8364a12aa8af46aefc"
   },
   "outputs": [
    {
     "data": {
      "text/html": [
       "<style  type=\"text/css\" >\n",
       "    #T_2572aa24_56cf_11e8_87fb_90cdb61d1fc8row0_col0 {\n",
       "            background-color:  #008000;\n",
       "        }    #T_2572aa24_56cf_11e8_87fb_90cdb61d1fc8row0_col1 {\n",
       "            background-color:  #d0f3d0;\n",
       "        }    #T_2572aa24_56cf_11e8_87fb_90cdb61d1fc8row0_col2 {\n",
       "            background-color:  #d6f7d6;\n",
       "        }    #T_2572aa24_56cf_11e8_87fb_90cdb61d1fc8row0_col3 {\n",
       "            background-color:  #e4fee4;\n",
       "        }    #T_2572aa24_56cf_11e8_87fb_90cdb61d1fc8row0_col4 {\n",
       "            background-color:  #d0f3d0;\n",
       "        }    #T_2572aa24_56cf_11e8_87fb_90cdb61d1fc8row0_col5 {\n",
       "            background-color:  #caf0ca;\n",
       "        }    #T_2572aa24_56cf_11e8_87fb_90cdb61d1fc8row0_col6 {\n",
       "            background-color:  #cbf1cb;\n",
       "        }    #T_2572aa24_56cf_11e8_87fb_90cdb61d1fc8row0_col7 {\n",
       "            background-color:  #cff3cf;\n",
       "        }    #T_2572aa24_56cf_11e8_87fb_90cdb61d1fc8row1_col0 {\n",
       "            background-color:  #e5ffe5;\n",
       "        }    #T_2572aa24_56cf_11e8_87fb_90cdb61d1fc8row1_col1 {\n",
       "            background-color:  #008000;\n",
       "        }    #T_2572aa24_56cf_11e8_87fb_90cdb61d1fc8row1_col2 {\n",
       "            background-color:  #9ed89e;\n",
       "        }    #T_2572aa24_56cf_11e8_87fb_90cdb61d1fc8row1_col3 {\n",
       "            background-color:  #e0fce0;\n",
       "        }    #T_2572aa24_56cf_11e8_87fb_90cdb61d1fc8row1_col4 {\n",
       "            background-color:  #d2f4d2;\n",
       "        }    #T_2572aa24_56cf_11e8_87fb_90cdb61d1fc8row1_col5 {\n",
       "            background-color:  #e5ffe5;\n",
       "        }    #T_2572aa24_56cf_11e8_87fb_90cdb61d1fc8row1_col6 {\n",
       "            background-color:  #8bcd8b;\n",
       "        }    #T_2572aa24_56cf_11e8_87fb_90cdb61d1fc8row1_col7 {\n",
       "            background-color:  #c8efc8;\n",
       "        }    #T_2572aa24_56cf_11e8_87fb_90cdb61d1fc8row2_col0 {\n",
       "            background-color:  #d6f7d6;\n",
       "        }    #T_2572aa24_56cf_11e8_87fb_90cdb61d1fc8row2_col1 {\n",
       "            background-color:  #8fcf8f;\n",
       "        }    #T_2572aa24_56cf_11e8_87fb_90cdb61d1fc8row2_col2 {\n",
       "            background-color:  #008000;\n",
       "        }    #T_2572aa24_56cf_11e8_87fb_90cdb61d1fc8row2_col3 {\n",
       "            background-color:  #d5f6d5;\n",
       "        }    #T_2572aa24_56cf_11e8_87fb_90cdb61d1fc8row2_col4 {\n",
       "            background-color:  #c3ecc3;\n",
       "        }    #T_2572aa24_56cf_11e8_87fb_90cdb61d1fc8row2_col5 {\n",
       "            background-color:  #d1f4d1;\n",
       "        }    #T_2572aa24_56cf_11e8_87fb_90cdb61d1fc8row2_col6 {\n",
       "            background-color:  #bee9be;\n",
       "        }    #T_2572aa24_56cf_11e8_87fb_90cdb61d1fc8row2_col7 {\n",
       "            background-color:  #d8f8d8;\n",
       "        }    #T_2572aa24_56cf_11e8_87fb_90cdb61d1fc8row3_col0 {\n",
       "            background-color:  #d3f5d3;\n",
       "        }    #T_2572aa24_56cf_11e8_87fb_90cdb61d1fc8row3_col1 {\n",
       "            background-color:  #bce8bc;\n",
       "        }    #T_2572aa24_56cf_11e8_87fb_90cdb61d1fc8row3_col2 {\n",
       "            background-color:  #c5edc5;\n",
       "        }    #T_2572aa24_56cf_11e8_87fb_90cdb61d1fc8row3_col3 {\n",
       "            background-color:  #008000;\n",
       "        }    #T_2572aa24_56cf_11e8_87fb_90cdb61d1fc8row3_col4 {\n",
       "            background-color:  #caf0ca;\n",
       "        }    #T_2572aa24_56cf_11e8_87fb_90cdb61d1fc8row3_col5 {\n",
       "            background-color:  #c1ebc1;\n",
       "        }    #T_2572aa24_56cf_11e8_87fb_90cdb61d1fc8row3_col6 {\n",
       "            background-color:  #c9efc9;\n",
       "        }    #T_2572aa24_56cf_11e8_87fb_90cdb61d1fc8row3_col7 {\n",
       "            background-color:  #d2f4d2;\n",
       "        }    #T_2572aa24_56cf_11e8_87fb_90cdb61d1fc8row4_col0 {\n",
       "            background-color:  #daf9da;\n",
       "        }    #T_2572aa24_56cf_11e8_87fb_90cdb61d1fc8row4_col1 {\n",
       "            background-color:  #c8efc8;\n",
       "        }    #T_2572aa24_56cf_11e8_87fb_90cdb61d1fc8row4_col2 {\n",
       "            background-color:  #cdf2cd;\n",
       "        }    #T_2572aa24_56cf_11e8_87fb_90cdb61d1fc8row4_col3 {\n",
       "            background-color:  #e5ffe5;\n",
       "        }    #T_2572aa24_56cf_11e8_87fb_90cdb61d1fc8row4_col4 {\n",
       "            background-color:  #008000;\n",
       "        }    #T_2572aa24_56cf_11e8_87fb_90cdb61d1fc8row4_col5 {\n",
       "            background-color:  #dbf9db;\n",
       "        }    #T_2572aa24_56cf_11e8_87fb_90cdb61d1fc8row4_col6 {\n",
       "            background-color:  #bfeabf;\n",
       "        }    #T_2572aa24_56cf_11e8_87fb_90cdb61d1fc8row4_col7 {\n",
       "            background-color:  #e5ffe5;\n",
       "        }    #T_2572aa24_56cf_11e8_87fb_90cdb61d1fc8row5_col0 {\n",
       "            background-color:  #defbde;\n",
       "        }    #T_2572aa24_56cf_11e8_87fb_90cdb61d1fc8row5_col1 {\n",
       "            background-color:  #e5ffe5;\n",
       "        }    #T_2572aa24_56cf_11e8_87fb_90cdb61d1fc8row5_col2 {\n",
       "            background-color:  #e5ffe5;\n",
       "        }    #T_2572aa24_56cf_11e8_87fb_90cdb61d1fc8row5_col3 {\n",
       "            background-color:  #e5ffe5;\n",
       "        }    #T_2572aa24_56cf_11e8_87fb_90cdb61d1fc8row5_col4 {\n",
       "            background-color:  #e5ffe5;\n",
       "        }    #T_2572aa24_56cf_11e8_87fb_90cdb61d1fc8row5_col5 {\n",
       "            background-color:  #008000;\n",
       "        }    #T_2572aa24_56cf_11e8_87fb_90cdb61d1fc8row5_col6 {\n",
       "            background-color:  #e5ffe5;\n",
       "        }    #T_2572aa24_56cf_11e8_87fb_90cdb61d1fc8row5_col7 {\n",
       "            background-color:  #c2ebc2;\n",
       "        }    #T_2572aa24_56cf_11e8_87fb_90cdb61d1fc8row6_col0 {\n",
       "            background-color:  #d7f7d7;\n",
       "        }    #T_2572aa24_56cf_11e8_87fb_90cdb61d1fc8row6_col1 {\n",
       "            background-color:  #85ca85;\n",
       "        }    #T_2572aa24_56cf_11e8_87fb_90cdb61d1fc8row6_col2 {\n",
       "            background-color:  #c8efc8;\n",
       "        }    #T_2572aa24_56cf_11e8_87fb_90cdb61d1fc8row6_col3 {\n",
       "            background-color:  #e5ffe5;\n",
       "        }    #T_2572aa24_56cf_11e8_87fb_90cdb61d1fc8row6_col4 {\n",
       "            background-color:  #c0eac0;\n",
       "        }    #T_2572aa24_56cf_11e8_87fb_90cdb61d1fc8row6_col5 {\n",
       "            background-color:  #dcfadc;\n",
       "        }    #T_2572aa24_56cf_11e8_87fb_90cdb61d1fc8row6_col6 {\n",
       "            background-color:  #008000;\n",
       "        }    #T_2572aa24_56cf_11e8_87fb_90cdb61d1fc8row6_col7 {\n",
       "            background-color:  #dcfadc;\n",
       "        }    #T_2572aa24_56cf_11e8_87fb_90cdb61d1fc8row7_col0 {\n",
       "            background-color:  #d1f4d1;\n",
       "        }    #T_2572aa24_56cf_11e8_87fb_90cdb61d1fc8row7_col1 {\n",
       "            background-color:  #b7e5b7;\n",
       "        }    #T_2572aa24_56cf_11e8_87fb_90cdb61d1fc8row7_col2 {\n",
       "            background-color:  #dbf9db;\n",
       "        }    #T_2572aa24_56cf_11e8_87fb_90cdb61d1fc8row7_col3 {\n",
       "            background-color:  #e5ffe5;\n",
       "        }    #T_2572aa24_56cf_11e8_87fb_90cdb61d1fc8row7_col4 {\n",
       "            background-color:  #ddfbdd;\n",
       "        }    #T_2572aa24_56cf_11e8_87fb_90cdb61d1fc8row7_col5 {\n",
       "            background-color:  #b1e2b1;\n",
       "        }    #T_2572aa24_56cf_11e8_87fb_90cdb61d1fc8row7_col6 {\n",
       "            background-color:  #d3f5d3;\n",
       "        }    #T_2572aa24_56cf_11e8_87fb_90cdb61d1fc8row7_col7 {\n",
       "            background-color:  #008000;\n",
       "        }</style>  \n",
       "<table id=\"T_2572aa24_56cf_11e8_87fb_90cdb61d1fc8\" > \n",
       "<thead>    <tr> \n",
       "        <th class=\"blank level0\" ></th> \n",
       "        <th class=\"col_heading level0 col0\" >age_upon_outcome</th> \n",
       "        <th class=\"col_heading level0 col1\" >animal_type</th> \n",
       "        <th class=\"col_heading level0 col2\" >breed</th> \n",
       "        <th class=\"col_heading level0 col3\" >color</th> \n",
       "        <th class=\"col_heading level0 col4\" >name</th> \n",
       "        <th class=\"col_heading level0 col5\" >outcome_subtype</th> \n",
       "        <th class=\"col_heading level0 col6\" >outcome_type</th> \n",
       "        <th class=\"col_heading level0 col7\" >sex_upon_outcome</th> \n",
       "    </tr></thead> \n",
       "<tbody>    <tr> \n",
       "        <th id=\"T_2572aa24_56cf_11e8_87fb_90cdb61d1fc8\" class=\"row_heading level0 row0\" >age_upon_outcome</th> \n",
       "        <td id=\"T_2572aa24_56cf_11e8_87fb_90cdb61d1fc8row0_col0\" class=\"data row0 col0\" >1</td> \n",
       "        <td id=\"T_2572aa24_56cf_11e8_87fb_90cdb61d1fc8row0_col1\" class=\"data row0 col1\" >-0.0770082</td> \n",
       "        <td id=\"T_2572aa24_56cf_11e8_87fb_90cdb61d1fc8row0_col2\" class=\"data row0 col2\" >-0.00531003</td> \n",
       "        <td id=\"T_2572aa24_56cf_11e8_87fb_90cdb61d1fc8row0_col3\" class=\"data row0 col3\" >0.0131546</td> \n",
       "        <td id=\"T_2572aa24_56cf_11e8_87fb_90cdb61d1fc8row0_col4\" class=\"data row0 col4\" >-0.0217777</td> \n",
       "        <td id=\"T_2572aa24_56cf_11e8_87fb_90cdb61d1fc8row0_col5\" class=\"data row0 col5\" >-0.0424632</td> \n",
       "        <td id=\"T_2572aa24_56cf_11e8_87fb_90cdb61d1fc8row0_col6\" class=\"data row0 col6\" >-0.00820382</td> \n",
       "        <td id=\"T_2572aa24_56cf_11e8_87fb_90cdb61d1fc8row0_col7\" class=\"data row0 col7\" >0.0197621</td> \n",
       "    </tr>    <tr> \n",
       "        <th id=\"T_2572aa24_56cf_11e8_87fb_90cdb61d1fc8\" class=\"row_heading level0 row1\" >animal_type</th> \n",
       "        <td id=\"T_2572aa24_56cf_11e8_87fb_90cdb61d1fc8row1_col0\" class=\"data row1 col0\" >-0.0770082</td> \n",
       "        <td id=\"T_2572aa24_56cf_11e8_87fb_90cdb61d1fc8row1_col1\" class=\"data row1 col1\" >1</td> \n",
       "        <td id=\"T_2572aa24_56cf_11e8_87fb_90cdb61d1fc8row1_col2\" class=\"data row1 col2\" >0.257343</td> \n",
       "        <td id=\"T_2572aa24_56cf_11e8_87fb_90cdb61d1fc8row1_col3\" class=\"data row1 col3\" >0.0267001</td> \n",
       "        <td id=\"T_2572aa24_56cf_11e8_87fb_90cdb61d1fc8row1_col4\" class=\"data row1 col4\" >-0.0312165</td> \n",
       "        <td id=\"T_2572aa24_56cf_11e8_87fb_90cdb61d1fc8row1_col5\" class=\"data row1 col5\" >-0.188544</td> \n",
       "        <td id=\"T_2572aa24_56cf_11e8_87fb_90cdb61d1fc8row1_col6\" class=\"data row1 col6\" >0.311228</td> \n",
       "        <td id=\"T_2572aa24_56cf_11e8_87fb_90cdb61d1fc8row1_col7\" class=\"data row1 col7\" >0.0538892</td> \n",
       "    </tr>    <tr> \n",
       "        <th id=\"T_2572aa24_56cf_11e8_87fb_90cdb61d1fc8\" class=\"row_heading level0 row2\" >breed</th> \n",
       "        <td id=\"T_2572aa24_56cf_11e8_87fb_90cdb61d1fc8row2_col0\" class=\"data row2 col0\" >-0.00531003</td> \n",
       "        <td id=\"T_2572aa24_56cf_11e8_87fb_90cdb61d1fc8row2_col1\" class=\"data row2 col1\" >0.257343</td> \n",
       "        <td id=\"T_2572aa24_56cf_11e8_87fb_90cdb61d1fc8row2_col2\" class=\"data row2 col2\" >1</td> \n",
       "        <td id=\"T_2572aa24_56cf_11e8_87fb_90cdb61d1fc8row2_col3\" class=\"data row2 col3\" >0.0757076</td> \n",
       "        <td id=\"T_2572aa24_56cf_11e8_87fb_90cdb61d1fc8row2_col4\" class=\"data row2 col4\" >0.0382518</td> \n",
       "        <td id=\"T_2572aa24_56cf_11e8_87fb_90cdb61d1fc8row2_col5\" class=\"data row2 col5\" >-0.0780958</td> \n",
       "        <td id=\"T_2572aa24_56cf_11e8_87fb_90cdb61d1fc8row2_col6\" class=\"data row2 col6\" >0.062102</td> \n",
       "        <td id=\"T_2572aa24_56cf_11e8_87fb_90cdb61d1fc8row2_col7\" class=\"data row2 col7\" >-0.0248905</td> \n",
       "    </tr>    <tr> \n",
       "        <th id=\"T_2572aa24_56cf_11e8_87fb_90cdb61d1fc8\" class=\"row_heading level0 row3\" >color</th> \n",
       "        <td id=\"T_2572aa24_56cf_11e8_87fb_90cdb61d1fc8row3_col0\" class=\"data row3 col0\" >0.0131546</td> \n",
       "        <td id=\"T_2572aa24_56cf_11e8_87fb_90cdb61d1fc8row3_col1\" class=\"data row3 col1\" >0.0267001</td> \n",
       "        <td id=\"T_2572aa24_56cf_11e8_87fb_90cdb61d1fc8row3_col2\" class=\"data row3 col2\" >0.0757076</td> \n",
       "        <td id=\"T_2572aa24_56cf_11e8_87fb_90cdb61d1fc8row3_col3\" class=\"data row3 col3\" >1</td> \n",
       "        <td id=\"T_2572aa24_56cf_11e8_87fb_90cdb61d1fc8row3_col4\" class=\"data row3 col4\" >0.00172539</td> \n",
       "        <td id=\"T_2572aa24_56cf_11e8_87fb_90cdb61d1fc8row3_col5\" class=\"data row3 col5\" >0.00380671</td> \n",
       "        <td id=\"T_2572aa24_56cf_11e8_87fb_90cdb61d1fc8row3_col6\" class=\"data row3 col6\" >0.00566022</td> \n",
       "        <td id=\"T_2572aa24_56cf_11e8_87fb_90cdb61d1fc8row3_col7\" class=\"data row3 col7\" >0.00731644</td> \n",
       "    </tr>    <tr> \n",
       "        <th id=\"T_2572aa24_56cf_11e8_87fb_90cdb61d1fc8\" class=\"row_heading level0 row4\" >name</th> \n",
       "        <td id=\"T_2572aa24_56cf_11e8_87fb_90cdb61d1fc8row4_col0\" class=\"data row4 col0\" >-0.0217777</td> \n",
       "        <td id=\"T_2572aa24_56cf_11e8_87fb_90cdb61d1fc8row4_col1\" class=\"data row4 col1\" >-0.0312165</td> \n",
       "        <td id=\"T_2572aa24_56cf_11e8_87fb_90cdb61d1fc8row4_col2\" class=\"data row4 col2\" >0.0382518</td> \n",
       "        <td id=\"T_2572aa24_56cf_11e8_87fb_90cdb61d1fc8row4_col3\" class=\"data row4 col3\" >0.00172539</td> \n",
       "        <td id=\"T_2572aa24_56cf_11e8_87fb_90cdb61d1fc8row4_col4\" class=\"data row4 col4\" >1</td> \n",
       "        <td id=\"T_2572aa24_56cf_11e8_87fb_90cdb61d1fc8row4_col5\" class=\"data row4 col5\" >-0.131042</td> \n",
       "        <td id=\"T_2572aa24_56cf_11e8_87fb_90cdb61d1fc8row4_col6\" class=\"data row4 col6\" >0.0555968</td> \n",
       "        <td id=\"T_2572aa24_56cf_11e8_87fb_90cdb61d1fc8row4_col7\" class=\"data row4 col7\" >-0.090606</td> \n",
       "    </tr>    <tr> \n",
       "        <th id=\"T_2572aa24_56cf_11e8_87fb_90cdb61d1fc8\" class=\"row_heading level0 row5\" >outcome_subtype</th> \n",
       "        <td id=\"T_2572aa24_56cf_11e8_87fb_90cdb61d1fc8row5_col0\" class=\"data row5 col0\" >-0.0424632</td> \n",
       "        <td id=\"T_2572aa24_56cf_11e8_87fb_90cdb61d1fc8row5_col1\" class=\"data row5 col1\" >-0.188544</td> \n",
       "        <td id=\"T_2572aa24_56cf_11e8_87fb_90cdb61d1fc8row5_col2\" class=\"data row5 col2\" >-0.0780958</td> \n",
       "        <td id=\"T_2572aa24_56cf_11e8_87fb_90cdb61d1fc8row5_col3\" class=\"data row5 col3\" >0.00380671</td> \n",
       "        <td id=\"T_2572aa24_56cf_11e8_87fb_90cdb61d1fc8row5_col4\" class=\"data row5 col4\" >-0.131042</td> \n",
       "        <td id=\"T_2572aa24_56cf_11e8_87fb_90cdb61d1fc8row5_col5\" class=\"data row5 col5\" >1</td> \n",
       "        <td id=\"T_2572aa24_56cf_11e8_87fb_90cdb61d1fc8row5_col6\" class=\"data row5 col6\" >-0.137239</td> \n",
       "        <td id=\"T_2572aa24_56cf_11e8_87fb_90cdb61d1fc8row5_col7\" class=\"data row5 col7\" >0.0835363</td> \n",
       "    </tr>    <tr> \n",
       "        <th id=\"T_2572aa24_56cf_11e8_87fb_90cdb61d1fc8\" class=\"row_heading level0 row6\" >outcome_type</th> \n",
       "        <td id=\"T_2572aa24_56cf_11e8_87fb_90cdb61d1fc8row6_col0\" class=\"data row6 col0\" >-0.00820382</td> \n",
       "        <td id=\"T_2572aa24_56cf_11e8_87fb_90cdb61d1fc8row6_col1\" class=\"data row6 col1\" >0.311228</td> \n",
       "        <td id=\"T_2572aa24_56cf_11e8_87fb_90cdb61d1fc8row6_col2\" class=\"data row6 col2\" >0.062102</td> \n",
       "        <td id=\"T_2572aa24_56cf_11e8_87fb_90cdb61d1fc8row6_col3\" class=\"data row6 col3\" >0.00566022</td> \n",
       "        <td id=\"T_2572aa24_56cf_11e8_87fb_90cdb61d1fc8row6_col4\" class=\"data row6 col4\" >0.0555968</td> \n",
       "        <td id=\"T_2572aa24_56cf_11e8_87fb_90cdb61d1fc8row6_col5\" class=\"data row6 col5\" >-0.137239</td> \n",
       "        <td id=\"T_2572aa24_56cf_11e8_87fb_90cdb61d1fc8row6_col6\" class=\"data row6 col6\" >1</td> \n",
       "        <td id=\"T_2572aa24_56cf_11e8_87fb_90cdb61d1fc8row6_col7\" class=\"data row6 col7\" >-0.045623</td> \n",
       "    </tr>    <tr> \n",
       "        <th id=\"T_2572aa24_56cf_11e8_87fb_90cdb61d1fc8\" class=\"row_heading level0 row7\" >sex_upon_outcome</th> \n",
       "        <td id=\"T_2572aa24_56cf_11e8_87fb_90cdb61d1fc8row7_col0\" class=\"data row7 col0\" >0.0197621</td> \n",
       "        <td id=\"T_2572aa24_56cf_11e8_87fb_90cdb61d1fc8row7_col1\" class=\"data row7 col1\" >0.0538892</td> \n",
       "        <td id=\"T_2572aa24_56cf_11e8_87fb_90cdb61d1fc8row7_col2\" class=\"data row7 col2\" >-0.0248905</td> \n",
       "        <td id=\"T_2572aa24_56cf_11e8_87fb_90cdb61d1fc8row7_col3\" class=\"data row7 col3\" >0.00731644</td> \n",
       "        <td id=\"T_2572aa24_56cf_11e8_87fb_90cdb61d1fc8row7_col4\" class=\"data row7 col4\" >-0.090606</td> \n",
       "        <td id=\"T_2572aa24_56cf_11e8_87fb_90cdb61d1fc8row7_col5\" class=\"data row7 col5\" >0.0835363</td> \n",
       "        <td id=\"T_2572aa24_56cf_11e8_87fb_90cdb61d1fc8row7_col6\" class=\"data row7 col6\" >-0.045623</td> \n",
       "        <td id=\"T_2572aa24_56cf_11e8_87fb_90cdb61d1fc8row7_col7\" class=\"data row7 col7\" >1</td> \n",
       "    </tr></tbody> \n",
       "</table> "
      ],
      "text/plain": [
       "<pandas.io.formats.style.Styler at 0x16bbb4e0198>"
      ]
     },
     "execution_count": 12,
     "metadata": {},
     "output_type": "execute_result"
    }
   ],
   "source": [
    "import seaborn as sns\n",
    "\n",
    "cm = sns.light_palette(\"green\", as_cmap=True)\n",
    "s = ShelterDropDF.apply(lambda x : pd.factorize(x)[0]).corr(method='pearson', min_periods=1).style.background_gradient(cmap=cm)\n",
    "s"
   ]
  },
  {
   "cell_type": "markdown",
   "metadata": {
    "_cell_guid": "9b189450-dc15-435b-89e4-48bdec55bd2b",
    "_uuid": "7e12487815f3c6542eb154d76ae36c3bb5fceb0c"
   },
   "source": [
    "It looks like the animal_type shows most positive correlation with outcome_type.  The rest seem to be close to no correlation."
   ]
  },
  {
   "cell_type": "markdown",
   "metadata": {
    "_cell_guid": "ddbc15f4-7c35-4b2a-955a-3ca54877b41e",
    "_uuid": "ed3ffdf0d3c665eb35ca99aa436ba38aee12d08d"
   },
   "source": [
    "The problem with this method, however is that it replaces the categorical variables with numerical variables, which imply rank (such as 1,2,3) when there is no justification for implying rank:"
   ]
  },
  {
   "cell_type": "code",
   "execution_count": 13,
   "metadata": {
    "_cell_guid": "ca123002-f8bb-4c26-89fa-1c6cf6f8ea09",
    "_uuid": "845b82ad4884aae356c373ba29e28bc2a1e41e13"
   },
   "outputs": [
    {
     "data": {
      "text/html": [
       "<div>\n",
       "<style>\n",
       "    .dataframe thead tr:only-child th {\n",
       "        text-align: right;\n",
       "    }\n",
       "\n",
       "    .dataframe thead th {\n",
       "        text-align: left;\n",
       "    }\n",
       "\n",
       "    .dataframe tbody tr th {\n",
       "        vertical-align: top;\n",
       "    }\n",
       "</style>\n",
       "<table border=\"1\" class=\"dataframe\">\n",
       "  <thead>\n",
       "    <tr style=\"text-align: right;\">\n",
       "      <th></th>\n",
       "      <th>age_upon_outcome</th>\n",
       "      <th>animal_type</th>\n",
       "      <th>breed</th>\n",
       "      <th>color</th>\n",
       "      <th>name</th>\n",
       "      <th>outcome_subtype</th>\n",
       "      <th>outcome_type</th>\n",
       "      <th>sex_upon_outcome</th>\n",
       "    </tr>\n",
       "  </thead>\n",
       "  <tbody>\n",
       "    <tr>\n",
       "      <th>0</th>\n",
       "      <td>0</td>\n",
       "      <td>0</td>\n",
       "      <td>0</td>\n",
       "      <td>0</td>\n",
       "      <td>-1</td>\n",
       "      <td>0</td>\n",
       "      <td>0</td>\n",
       "      <td>0</td>\n",
       "    </tr>\n",
       "    <tr>\n",
       "      <th>1</th>\n",
       "      <td>1</td>\n",
       "      <td>1</td>\n",
       "      <td>1</td>\n",
       "      <td>1</td>\n",
       "      <td>0</td>\n",
       "      <td>0</td>\n",
       "      <td>0</td>\n",
       "      <td>1</td>\n",
       "    </tr>\n",
       "    <tr>\n",
       "      <th>2</th>\n",
       "      <td>1</td>\n",
       "      <td>1</td>\n",
       "      <td>2</td>\n",
       "      <td>2</td>\n",
       "      <td>1</td>\n",
       "      <td>-1</td>\n",
       "      <td>1</td>\n",
       "      <td>2</td>\n",
       "    </tr>\n",
       "    <tr>\n",
       "      <th>3</th>\n",
       "      <td>2</td>\n",
       "      <td>1</td>\n",
       "      <td>3</td>\n",
       "      <td>3</td>\n",
       "      <td>2</td>\n",
       "      <td>0</td>\n",
       "      <td>0</td>\n",
       "      <td>2</td>\n",
       "    </tr>\n",
       "    <tr>\n",
       "      <th>4</th>\n",
       "      <td>3</td>\n",
       "      <td>2</td>\n",
       "      <td>4</td>\n",
       "      <td>4</td>\n",
       "      <td>-1</td>\n",
       "      <td>1</td>\n",
       "      <td>2</td>\n",
       "      <td>3</td>\n",
       "    </tr>\n",
       "  </tbody>\n",
       "</table>\n",
       "</div>"
      ],
      "text/plain": [
       "   age_upon_outcome  animal_type  breed  color  name  outcome_subtype  \\\n",
       "0                 0            0      0      0    -1                0   \n",
       "1                 1            1      1      1     0                0   \n",
       "2                 1            1      2      2     1               -1   \n",
       "3                 2            1      3      3     2                0   \n",
       "4                 3            2      4      4    -1                1   \n",
       "\n",
       "   outcome_type  sex_upon_outcome  \n",
       "0             0                 0  \n",
       "1             0                 1  \n",
       "2             1                 2  \n",
       "3             0                 2  \n",
       "4             2                 3  "
      ]
     },
     "execution_count": 13,
     "metadata": {},
     "output_type": "execute_result"
    }
   ],
   "source": [
    "RankExampleDF = ShelterDropDF.apply(lambda x : pd.factorize(x)[0])\n",
    "RankExampleDF.head()"
   ]
  },
  {
   "cell_type": "markdown",
   "metadata": {
    "_cell_guid": "ebe803d3-2dda-4af4-a1c6-03cc01440e9a",
    "_uuid": "48f0a62e31d1abc6da8f083405e595a28b970634"
   },
   "source": [
    "Next, let's run some graphs to get a visual for our data, and how each of our feature variables compare to our target variable of outcome_type:"
   ]
  },
  {
   "cell_type": "code",
   "execution_count": 14,
   "metadata": {
    "_cell_guid": "b2c37a46-eb1d-4416-8592-133ff4f1fa87",
    "_uuid": "0ffedb5c1d09793efb35261862b1caa1d51686e8"
   },
   "outputs": [
    {
     "name": "stdout",
     "output_type": "stream",
     "text": [
      "Outcome Type Variables:\n"
     ]
    },
    {
     "data": {
      "text/plain": [
       "array(['Transfer', 'Adoption', 'Euthanasia', 'Return to Owner', 'Died',\n",
       "       'Disposal', 'Relocate', 'Missing', 'Rto-Adopt'], dtype=object)"
      ]
     },
     "execution_count": 14,
     "metadata": {},
     "output_type": "execute_result"
    }
   ],
   "source": [
    "print(\"Outcome Type Variables:\")\n",
    "ShelterDropDF.outcome_type.unique()"
   ]
  },
  {
   "cell_type": "code",
   "execution_count": 15,
   "metadata": {
    "_cell_guid": "19884e6e-5105-46a5-a7f3-7164e868c6ea",
    "_uuid": "b9b512f9717724cf691f7280805539d4da4e8eb8"
   },
   "outputs": [
    {
     "data": {
      "text/plain": [
       "<matplotlib.axes._subplots.AxesSubplot at 0x16bbb771208>"
      ]
     },
     "execution_count": 15,
     "metadata": {},
     "output_type": "execute_result"
    }
   ],
   "source": [
    "Adopted = ShelterDropDF[ShelterDropDF['outcome_type'] == 'Adoption'].groupby('animal_type').size()\n",
    "Transferred = ShelterDropDF[ShelterDropDF['outcome_type'] == 'Transfer'].groupby('animal_type').size()\n",
    "Euthanized = ShelterDropDF[ShelterDropDF['outcome_type'] == 'Euthanasia'].groupby('animal_type').size()\n",
    "Returned = ShelterDropDF[ShelterDropDF['outcome_type'] == 'Return to Owner'].groupby('animal_type').size()\n",
    "Died = ShelterDropDF[ShelterDropDF['outcome_type'] == 'Died'].groupby('animal_type').size()\n",
    "Disposed = ShelterDropDF[ShelterDropDF['outcome_type'] == 'Disposal'].groupby('animal_type').size()\n",
    "Relocated = ShelterDropDF[ShelterDropDF['outcome_type'] == 'Relocate'].groupby('animal_type').size()\n",
    "Missing = ShelterDropDF[ShelterDropDF['outcome_type'] == 'Missing'].groupby('animal_type').size()\n",
    "Rto_Adopt = ShelterDropDF[ShelterDropDF['outcome_type'] == 'Rto-Adopt'].groupby('animal_type').size()\n",
    "\n",
    "data = pd.concat([Adopted, Transferred, Euthanized, Returned, Died, Disposed, Relocated, Missing, Rto_Adopt], axis=1)\n",
    "data.columns = ['Adopted', 'Transferred', 'Euthanized', 'Returned', 'Died', 'Disposed', 'Relocated', 'Missing', 'Rto_Adopt']\n",
    "data.plot.bar(title='Animal Type Vs. Outcome Type')"
   ]
  },
  {
   "cell_type": "markdown",
   "metadata": {
    "_cell_guid": "46ef8459-132a-4386-ad13-36712ad7c8ff",
    "_uuid": "98a132d8b3f16d25f41f94d23b775c6cee1db522"
   },
   "source": [
    "It looks like Dogs were most likely to be adopted, followed by Cats.  Dogs were also by far most likely to be returned back to the original owner.  Cats appeared to be most likely to be transferred, followed closely behind by Dogs.  \"Other\" animals were most liekly to be euthanized."
   ]
  },
  {
   "cell_type": "code",
   "execution_count": 16,
   "metadata": {
    "_cell_guid": "dd0cd881-aafc-4148-baf3-855ab10a652f",
    "_uuid": "2ff7a0232afd99adebb08a2596e710ea8c892995"
   },
   "outputs": [
    {
     "data": {
      "text/plain": [
       "<matplotlib.axes._subplots.AxesSubplot at 0x16bbc153080>"
      ]
     },
     "execution_count": 16,
     "metadata": {},
     "output_type": "execute_result"
    }
   ],
   "source": [
    "Adopted = ShelterDropDF[ShelterDropDF['outcome_type'] == 'Adoption'].groupby('sex_upon_outcome').size()\n",
    "Transferred = ShelterDropDF[ShelterDropDF['outcome_type'] == 'Transfer'].groupby('sex_upon_outcome').size()\n",
    "Euthanized = ShelterDropDF[ShelterDropDF['outcome_type'] == 'Euthanasia'].groupby('sex_upon_outcome').size()\n",
    "Returned = ShelterDropDF[ShelterDropDF['outcome_type'] == 'Return to Owner'].groupby('sex_upon_outcome').size()\n",
    "Died = ShelterDropDF[ShelterDropDF['outcome_type'] == 'Died'].groupby('sex_upon_outcome').size()\n",
    "Disposed = ShelterDropDF[ShelterDropDF['outcome_type'] == 'Disposal'].groupby('sex_upon_outcome').size()\n",
    "Relocated = ShelterDropDF[ShelterDropDF['outcome_type'] == 'Relocate'].groupby('sex_upon_outcome').size()\n",
    "Missing = ShelterDropDF[ShelterDropDF['outcome_type'] == 'Missing'].groupby('sex_upon_outcome').size()\n",
    "Rto_Adopt = ShelterDropDF[ShelterDropDF['outcome_type'] == 'Rto-Adopt'].groupby('sex_upon_outcome').size()\n",
    "\n",
    "data = pd.concat([Adopted, Transferred, Euthanized, Returned, Died, Disposed, Relocated, Missing, Rto_Adopt], axis=1)\n",
    "data.columns = ['Adopted', 'Transferred', 'Euthanized', 'Returned', 'Died', 'Disposed', 'Relocated', 'Missing', 'Rto_Adopt']\n",
    "data.plot.bar(title='Animal Sex Vs. Outcome Type')"
   ]
  },
  {
   "cell_type": "markdown",
   "metadata": {
    "_cell_guid": "6f75c1c8-a56a-44ff-be61-de642dd570c3",
    "_uuid": "635d96c21793170ae721977764a3fc942970626f"
   },
   "source": [
    "It looks like Fixed Animals were far more likely to be adopted than any of the other ones.  Unknown animal sex were most likely to be euthanized.  This may be due to the fact that most of the Unknowns belonged to the \"Other\" category, which contained uncommon pets, and therefore difficult to determine sex, and were unlikely to be adopted anyways.  "
   ]
  },
  {
   "cell_type": "code",
   "execution_count": 17,
   "metadata": {
    "_cell_guid": "81b521ad-7d62-4f1b-a575-bcef44501d4d",
    "_uuid": "b08b9faf5a8907ac96ca34b32695c5b9b2b33bee"
   },
   "outputs": [
    {
     "data": {
      "text/plain": [
       "<matplotlib.axes._subplots.AxesSubplot at 0x16bbd9f1b00>"
      ]
     },
     "execution_count": 17,
     "metadata": {},
     "output_type": "execute_result"
    }
   ],
   "source": [
    "Adopted = ShelterDropDF[ShelterDropDF['outcome_type'] == 'Adoption'].groupby('outcome_subtype').size()\n",
    "Transferred = ShelterDropDF[ShelterDropDF['outcome_type'] == 'Transfer'].groupby('outcome_subtype').size()\n",
    "Euthanized = ShelterDropDF[ShelterDropDF['outcome_type'] == 'Euthanasia'].groupby('outcome_subtype').size()\n",
    "Returned = ShelterDropDF[ShelterDropDF['outcome_type'] == 'Return to Owner'].groupby('outcome_subtype').size()\n",
    "Died = ShelterDropDF[ShelterDropDF['outcome_type'] == 'Died'].groupby('outcome_subtype').size()\n",
    "Disposed = ShelterDropDF[ShelterDropDF['outcome_type'] == 'Disposal'].groupby('outcome_subtype').size()\n",
    "Relocated = ShelterDropDF[ShelterDropDF['outcome_type'] == 'Relocate'].groupby('outcome_subtype').size()\n",
    "Missing = ShelterDropDF[ShelterDropDF['outcome_type'] == 'Missing'].groupby('outcome_subtype').size()\n",
    "Rto_Adopt = ShelterDropDF[ShelterDropDF['outcome_type'] == 'Rto-Adopt'].groupby('outcome_subtype').size()\n",
    "\n",
    "data = pd.concat([Adopted, Transferred, Euthanized, Returned, Died, Disposed, Relocated, Missing, Rto_Adopt], axis=1)\n",
    "data.columns = ['Adopted', 'Transferred', 'Euthanized', 'Returned', 'Died', 'Disposed', 'Relocated', 'Missing', 'Rto_Adopt']\n",
    "data.plot.bar(title='Outcome Subtype Vs. Outcome Type')"
   ]
  },
  {
   "cell_type": "markdown",
   "metadata": {
    "_cell_guid": "4bb0ba76-29c8-4542-b70e-040452c41d7f",
    "_uuid": "f744e3521190265d2d79dbb97065caecbefedce0"
   },
   "source": [
    "Based on this data, we find that Partners were most likely to be transferred, while Foster animals were most likely to be adopted.  Animals that were at risk for Rabies, or Suffering were most likely to be euthanized."
   ]
  },
  {
   "cell_type": "code",
   "execution_count": 18,
   "metadata": {
    "_cell_guid": "69353c88-d327-4c53-9243-479477f086f2",
    "_uuid": "fd9f974258177fdaba4a088eb3462f5f57286075"
   },
   "outputs": [
    {
     "name": "stdout",
     "output_type": "stream",
     "text": [
      "Breed Variables w/ Number of those Variables in DataFrame:\n"
     ]
    },
    {
     "data": {
      "text/plain": [
       "Domestic Shorthair Mix                      23332\n",
       "Pit Bull Mix                                 6133\n",
       "Chihuahua Shorthair Mix                      4733\n",
       "Labrador Retriever Mix                       4607\n",
       "Domestic Medium Hair Mix                     2323\n",
       "German Shepherd Mix                          1892\n",
       "Bat Mix                                      1283\n",
       "Domestic Longhair Mix                        1228\n",
       "Australian Cattle Dog Mix                    1059\n",
       "Siamese Mix                                   998\n",
       "Bat                                           799\n",
       "Dachshund Mix                                 798\n",
       "Boxer Mix                                     674\n",
       "Miniature Poodle Mix                          648\n",
       "Border Collie Mix                             646\n",
       "Catahoula Mix                                 476\n",
       "Raccoon Mix                                   465\n",
       "Rat Terrier Mix                               456\n",
       "Australian Shepherd Mix                       454\n",
       "Yorkshire Terrier Mix                         437\n",
       "Siberian Husky Mix                            418\n",
       "Jack Russell Terrier Mix                      416\n",
       "Miniature Schnauzer Mix                       392\n",
       "Domestic Shorthair                            386\n",
       "Beagle Mix                                    384\n",
       "Chihuahua Longhair Mix                        358\n",
       "Staffordshire Mix                             350\n",
       "Cairn Terrier Mix                             330\n",
       "Great Pyrenees Mix                            330\n",
       "Pointer Mix                                   325\n",
       "                                            ...  \n",
       "Chow Chow/Rottweiler                            1\n",
       "German Shepherd/Vizsla                          1\n",
       "Border Terrier/Labrador Retriever               1\n",
       "Great Pyrenees/Kuvasz                           1\n",
       "Snowshoe/Domestic Shorthair                     1\n",
       "Mockingbird                                     1\n",
       "Australian Shepherd/Collie Rough                1\n",
       "Australian Shepherd/Australian Kelpie           1\n",
       "Pit Bull/Border Terrier                         1\n",
       "Golden Retriever/Cocker Spaniel                 1\n",
       "Italian Greyhound/Beagle                        1\n",
       "Whippet/Catahoula                               1\n",
       "Manchester Terrier/Toy Fox Terrier              1\n",
       "Lhasa Apso/Yorkshire Terrier                    1\n",
       "Bluetick Hound/Australian Cattle Dog            1\n",
       "English Bulldog/Staffordshire                   1\n",
       "Bruss Griffon/Maltese                           1\n",
       "Norfolk Terrier/Standard Poodle                 1\n",
       "Chow Chow/Border Collie                         1\n",
       "Hawk Mix                                        1\n",
       "English Pointer/Labrador Retriever              1\n",
       "Dachshund Longhair/Toy Poodle                   1\n",
       "Dutch/Rabbit Sh                                 1\n",
       "Hovawart                                        1\n",
       "Anatol Shepherd/German Shorthair Pointer        1\n",
       "Chinese Sharpei/Chow Chow                       1\n",
       "Border Terrier/Pug                              1\n",
       "American Foxhound/Pointer                       1\n",
       "Greyhound/Dalmatian                             1\n",
       "Plott Hound/Rottweiler                          1\n",
       "Name: breed, Length: 2128, dtype: int64"
      ]
     },
     "execution_count": 18,
     "metadata": {},
     "output_type": "execute_result"
    }
   ],
   "source": [
    "print(\"Breed Variables w/ Number of those Variables in DataFrame:\")\n",
    "ShelterDropDF.breed.value_counts()"
   ]
  },
  {
   "cell_type": "code",
   "execution_count": 19,
   "metadata": {
    "_cell_guid": "b70cd36e-e990-4f8a-85fd-eac4747a4987",
    "_uuid": "5c9633df6b24d2b9a7e2b6e4b06cc58eed98a7b4"
   },
   "outputs": [
    {
     "name": "stdout",
     "output_type": "stream",
     "text": [
      "Color Variables w/ Number of those Variables in DataFrame:\n"
     ]
    },
    {
     "data": {
      "text/plain": [
       "Black/White                  8151\n",
       "Black                        6600\n",
       "Brown Tabby                  4445\n",
       "Brown                        3483\n",
       "White                        2784\n",
       "Brown/White                  2444\n",
       "Tan/White                    2394\n",
       "Brown Tabby/White            2338\n",
       "Orange Tabby                 2180\n",
       "White/Black                  2100\n",
       "Blue/White                   2081\n",
       "Tricolor                     1982\n",
       "Tan                          1963\n",
       "Black/Tan                    1829\n",
       "White/Brown                  1577\n",
       "Black/Brown                  1532\n",
       "Brown Brindle/White          1353\n",
       "Tortie                       1340\n",
       "Calico                       1338\n",
       "Blue                         1325\n",
       "Brown/Black                  1322\n",
       "White/Tan                    1160\n",
       "Blue Tabby                   1130\n",
       "Orange Tabby/White           1095\n",
       "Red                          1029\n",
       "Red/White                     860\n",
       "Torbie                        845\n",
       "Brown Brindle                 715\n",
       "Tan/Black                     607\n",
       "Chocolate/White               597\n",
       "                             ... \n",
       "Ruddy/Cream                     1\n",
       "Red/Gold                        1\n",
       "Tricolor/Orange                 1\n",
       "Red Tick/Brown Merle            1\n",
       "Tortie Point/Lynx Point         1\n",
       "Brown/Blue                      1\n",
       "Tortie Point/Blue               1\n",
       "Brown Tiger/Brown               1\n",
       "Chocolate/Red Tick              1\n",
       "Cream Tabby/Orange              1\n",
       "Brown/Brown Merle               1\n",
       "Brown Tabby/Orange Tabby        1\n",
       "Orange Tabby/Apricot            1\n",
       "Blue/Silver                     1\n",
       "Cream/Brown Merle               1\n",
       "Tricolor/Tricolor               1\n",
       "Red Merle/Tan                   1\n",
       "Orange Tabby/Black              1\n",
       "Blue Cream/Blue Tiger           1\n",
       "Black Smoke/Blue Tick           1\n",
       "Red Merle/Brown Merle           1\n",
       "Cream/Blue Point                1\n",
       "Blue Smoke/Gray                 1\n",
       "Seal Point/Cream                1\n",
       "Black Tabby/Orange              1\n",
       "White/Flame Point               1\n",
       "Black Smoke/Black               1\n",
       "Brown/Apricot                   1\n",
       "Orange Tabby/Tortie Point       1\n",
       "Gray/Fawn                       1\n",
       "Name: color, Length: 525, dtype: int64"
      ]
     },
     "execution_count": 19,
     "metadata": {},
     "output_type": "execute_result"
    }
   ],
   "source": [
    "print(\"Color Variables w/ Number of those Variables in DataFrame:\")\n",
    "ShelterDropDF.color.value_counts()"
   ]
  },
  {
   "cell_type": "markdown",
   "metadata": {
    "_cell_guid": "c82278ec-1b27-4e7b-8e37-f78c61684b06",
    "_uuid": "fcffa63c8fcc4d80c536f52dd061f10c98be70b3"
   },
   "source": [
    "The rest of the columns have too many variable to be able to list in a graph, so we just won't visualize them for now."
   ]
  },
  {
   "cell_type": "markdown",
   "metadata": {
    "_cell_guid": "5af2957b-4a52-4516-85c1-1c519470ca59",
    "_uuid": "d01e72b686f563ac20b6bfef25fcd00b25ddf144"
   },
   "source": [
    "I think that we're ready to go into machine learning now:  "
   ]
  },
  {
   "cell_type": "markdown",
   "metadata": {
    "_cell_guid": "4abe3eda-a6d9-4835-997b-3bbbd9ec3abd",
    "_uuid": "b0796e71df3c82036b73d0e9148f551f7edc2a39"
   },
   "source": [
    "So my idea is to create multiple models.  Some will contain only one feature variable, and some will contain multiple feature variables.  \n",
    "\n",
    "Here are the feature variables of each model I will create:\n",
    "1) (all feature variables)\n",
    "2) animal_type\n",
    "3) breed\n",
    "4) color \n",
    "5) name\n",
    "6) outcome_subtype\n",
    "7) sex_upon_outcome\n",
    "\n",
    "Then, I will combine the best performing single feature variable models to create an optimized multiple variable model, which will hopefully work the best."
   ]
  },
  {
   "cell_type": "markdown",
   "metadata": {
    "_cell_guid": "0c3851be-8777-46a7-bac3-af4dfd908c11",
    "_uuid": "9f6ab31b967f8c081fca8e607fe9b6bcc886ac1c"
   },
   "source": [
    "On second thought, there are just too many variables for breed, names, and color.  I think that I'll drop them"
   ]
  },
  {
   "cell_type": "code",
   "execution_count": 20,
   "metadata": {
    "_cell_guid": "be1dff43-414a-4d78-8a76-8b13628d8b4e",
    "_uuid": "b043ad116b9bfb8e5efe31255dfee7f576ef502e",
    "collapsed": true
   },
   "outputs": [],
   "source": [
    "#I decided to get rid of the 'names' column':\n",
    "ShelterDropDF = ShelterDropDF[['animal_type', 'outcome_subtype', 'outcome_type', 'sex_upon_outcome']]\n",
    "#Creating the different DataFrames I'll be building my models off of:\n",
    "MLAll = ShelterDropDF.dropna()\n",
    "MLAnimal = ShelterDropDF[['animal_type', 'outcome_type']].dropna()\n",
    "#I only drop rows on an 'as needed basis' so that I have every variable filled in for the other models:\n",
    "MLSubtype = ShelterDropDF[['outcome_subtype', 'outcome_type']].dropna()\n",
    "MLSex = ShelterDropDF[['sex_upon_outcome', 'outcome_type']].dropna()"
   ]
  },
  {
   "cell_type": "markdown",
   "metadata": {
    "_cell_guid": "6754b55b-1dee-4aff-8eac-d1406bdd9668",
    "_uuid": "cf917f03499130add449cb7996e17a2da42ab925"
   },
   "source": [
    "# Let's Create Model 1:"
   ]
  },
  {
   "cell_type": "markdown",
   "metadata": {
    "_cell_guid": "98ca2e2c-e20a-499d-bf6d-819a96ddeba7",
    "_uuid": "8cf6fd0fac46cbc799a7c8329721cb7261f53d2c"
   },
   "source": [
    "First, we are going to create a Decision Tree Classifier:"
   ]
  },
  {
   "cell_type": "code",
   "execution_count": 21,
   "metadata": {
    "_cell_guid": "6edc0f17-2146-4066-995c-44e95c6d9941",
    "_uuid": "99d810879378325520521a5fb86edad1630710f9",
    "collapsed": true
   },
   "outputs": [],
   "source": [
    "df = pd.get_dummies(MLAll[['animal_type', 'outcome_subtype', 'sex_upon_outcome']])\n",
    "X = df\n",
    "y = MLAll.outcome_type"
   ]
  },
  {
   "cell_type": "code",
   "execution_count": 22,
   "metadata": {
    "_cell_guid": "0c3ae92d-0351-4192-89de-8ae33db9eae9",
    "_uuid": "349f2a27de87db11d48b9290aaf238ec4ba6858c"
   },
   "outputs": [
    {
     "data": {
      "text/plain": [
       "DecisionTreeClassifier(class_weight=None, criterion='gini', max_depth=3,\n",
       "            max_features=None, max_leaf_nodes=None,\n",
       "            min_impurity_split=1e-07, min_samples_leaf=1,\n",
       "            min_samples_split=2, min_weight_fraction_leaf=0.0,\n",
       "            presort=False, random_state=None, splitter='best')"
      ]
     },
     "execution_count": 22,
     "metadata": {},
     "output_type": "execute_result"
    }
   ],
   "source": [
    "from sklearn.model_selection import train_test_split\n",
    "from sklearn.tree import DecisionTreeClassifier\n",
    "from sklearn.metrics import confusion_matrix, accuracy_score\n",
    "\n",
    "clf = DecisionTreeClassifier(max_depth=3)\n",
    "\n",
    "X_train, X_test, y_train, y_test = train_test_split(X, y, test_size=0.3,\n",
    "                                                    random_state=0, stratify=y)\n",
    "\n",
    "clf.fit(X_train, y_train)"
   ]
  },
  {
   "cell_type": "code",
   "execution_count": 23,
   "metadata": {
    "_cell_guid": "6fd4459e-b1d7-4df5-8fc4-43b6d2e3a29c",
    "_uuid": "126034f54ea99b7d03be4d2b3a45b086dae81bf3"
   },
   "outputs": [
    {
     "data": {
      "text/plain": [
       "0.9540272499768282"
      ]
     },
     "execution_count": 23,
     "metadata": {},
     "output_type": "execute_result"
    }
   ],
   "source": [
    "predictions = clf.predict(X_test)\n",
    "\n",
    "accuracy_score(y_test, predictions)"
   ]
  },
  {
   "cell_type": "code",
   "execution_count": 24,
   "metadata": {
    "_cell_guid": "c6a2bdeb-1d3b-465e-ae69-aeff7930dd6a",
    "_uuid": "a011b815260a99a5d43cbed058eb48aa95f52c33"
   },
   "outputs": [
    {
     "name": "stdout",
     "output_type": "stream",
     "text": [
      "             precision    recall  f1-score   support\n",
      "\n",
      "   Adoption       1.00      0.93      0.96      1778\n",
      "       Died       0.00      0.00      0.00       178\n",
      " Euthanasia       0.78      1.00      0.88      1773\n",
      "    Missing       0.00      0.00      0.00        10\n",
      "   Transfer       1.00      0.97      0.99      7050\n",
      "\n",
      "avg / total       0.95      0.95      0.95     10789\n",
      "\n"
     ]
    },
    {
     "name": "stderr",
     "output_type": "stream",
     "text": [
      "C:\\Users\\Brad Eledge\\Anaconda3\\lib\\site-packages\\sklearn\\metrics\\classification.py:1113: UndefinedMetricWarning: Precision and F-score are ill-defined and being set to 0.0 in labels with no predicted samples.\n",
      "  'precision', 'predicted', average, warn_for)\n"
     ]
    }
   ],
   "source": [
    "from sklearn.metrics import classification_report\n",
    "\n",
    "print(classification_report(y_test, predictions))"
   ]
  },
  {
   "cell_type": "markdown",
   "metadata": {
    "_cell_guid": "18946908-0319-43fc-b166-78790c322d10",
    "_uuid": "348e102bf2ce3cb0ecd188d72b67800c8cabffa9"
   },
   "source": [
    "Now, let's try a Random Forest Classifier:"
   ]
  },
  {
   "cell_type": "code",
   "execution_count": 25,
   "metadata": {
    "_cell_guid": "b6f21622-82bb-4055-bfb9-d9ec255a41a0",
    "_uuid": "03c63ccefddd028701fd283ea5cbb8b1cadad1ad"
   },
   "outputs": [
    {
     "data": {
      "text/plain": [
       "RandomForestClassifier(bootstrap=True, class_weight=None, criterion='gini',\n",
       "            max_depth=None, max_features='auto', max_leaf_nodes=None,\n",
       "            min_impurity_split=1e-07, min_samples_leaf=1,\n",
       "            min_samples_split=2, min_weight_fraction_leaf=0.0,\n",
       "            n_estimators=10, n_jobs=1, oob_score=False, random_state=None,\n",
       "            verbose=0, warm_start=False)"
      ]
     },
     "execution_count": 25,
     "metadata": {},
     "output_type": "execute_result"
    }
   ],
   "source": [
    "from sklearn.ensemble import RandomForestClassifier\n",
    "\n",
    "rfclf = RandomForestClassifier()\n",
    "rfclf.fit(X_train, y_train)"
   ]
  },
  {
   "cell_type": "code",
   "execution_count": 26,
   "metadata": {
    "_cell_guid": "8984c98d-e919-4262-be35-d8732991dad4",
    "_uuid": "4903d27753a19821c7f204868a570bd5f26d70b9"
   },
   "outputs": [
    {
     "data": {
      "text/plain": [
       "0.99860969505978314"
      ]
     },
     "execution_count": 26,
     "metadata": {},
     "output_type": "execute_result"
    }
   ],
   "source": [
    "rfclf_predictions = rfclf.predict(X_test)\n",
    "\n",
    "accuracy_score(y_test, rfclf_predictions)"
   ]
  },
  {
   "cell_type": "code",
   "execution_count": 27,
   "metadata": {
    "_cell_guid": "3855bb2c-2dc4-4de0-811f-c93707509655",
    "_uuid": "573c3c5f2b27883000d28f1fe6b2d481b90ccff6"
   },
   "outputs": [
    {
     "name": "stdout",
     "output_type": "stream",
     "text": [
      "             precision    recall  f1-score   support\n",
      "\n",
      "   Adoption       1.00      1.00      1.00      1778\n",
      "       Died       0.94      0.99      0.96       178\n",
      " Euthanasia       1.00      1.00      1.00      1773\n",
      "    Missing       1.00      0.30      0.46        10\n",
      "   Transfer       1.00      1.00      1.00      7050\n",
      "\n",
      "avg / total       1.00      1.00      1.00     10789\n",
      "\n"
     ]
    }
   ],
   "source": [
    "rfclf_predictions = rfclf.predict(X_test)\n",
    "\n",
    "print(classification_report(y_test, rfclf_predictions))"
   ]
  },
  {
   "cell_type": "markdown",
   "metadata": {
    "_cell_guid": "215a1ad6-57c5-41aa-9a7a-73d868571d2c",
    "_uuid": "15be9cf0d61315ccd9aea53ec90d696c7f461263"
   },
   "source": [
    "# Model 2 (Animal Type Feature Variable):"
   ]
  },
  {
   "cell_type": "code",
   "execution_count": 28,
   "metadata": {
    "_cell_guid": "3e6e14a2-617e-41d8-b9d3-59194116bc09",
    "_uuid": "46fd709087422b893441c43cfae7013595af658a"
   },
   "outputs": [
    {
     "data": {
      "text/plain": [
       "DecisionTreeClassifier(class_weight=None, criterion='gini', max_depth=3,\n",
       "            max_features=None, max_leaf_nodes=None,\n",
       "            min_impurity_split=1e-07, min_samples_leaf=1,\n",
       "            min_samples_split=2, min_weight_fraction_leaf=0.0,\n",
       "            presort=False, random_state=None, splitter='best')"
      ]
     },
     "execution_count": 28,
     "metadata": {},
     "output_type": "execute_result"
    }
   ],
   "source": [
    "df = pd.get_dummies(MLAnimal[['animal_type']])\n",
    "X = df\n",
    "y = MLAnimal.outcome_type\n",
    "\n",
    "clf = DecisionTreeClassifier(max_depth=3)\n",
    "\n",
    "X_train, X_test, y_train, y_test = train_test_split(X, y, test_size=0.3,\n",
    "                                                    random_state=0, stratify=y)\n",
    "\n",
    "clf.fit(X_train, y_train)"
   ]
  },
  {
   "cell_type": "code",
   "execution_count": 29,
   "metadata": {
    "_cell_guid": "7e102727-3f0d-49e1-858f-026a0041fd4e",
    "_uuid": "2b53f7f5fea5fa0d635044b88651d23d0ce2375b"
   },
   "outputs": [
    {
     "data": {
      "text/plain": [
       "0.46489733321973248"
      ]
     },
     "execution_count": 29,
     "metadata": {},
     "output_type": "execute_result"
    }
   ],
   "source": [
    "predictions = clf.predict(X_test)\n",
    "\n",
    "accuracy_score(y_test, predictions)"
   ]
  },
  {
   "cell_type": "code",
   "execution_count": 30,
   "metadata": {
    "_cell_guid": "9883e501-622d-4c97-97a1-97f930728220",
    "_uuid": "82a09c2ecef164666847e8c7abba0e55afc14801"
   },
   "outputs": [
    {
     "name": "stdout",
     "output_type": "stream",
     "text": [
      "                 precision    recall  f1-score   support\n",
      "\n",
      "       Adoption       0.45      0.61      0.52      9934\n",
      "           Died       0.00      0.00      0.00       204\n",
      "       Disposal       0.00      0.00      0.00        92\n",
      "     Euthanasia       0.69      0.49      0.57      1824\n",
      "        Missing       0.00      0.00      0.00        14\n",
      "       Relocate       0.00      0.00      0.00         5\n",
      "Return to Owner       0.00      0.00      0.00      4306\n",
      "      Rto-Adopt       0.00      0.00      0.00        45\n",
      "       Transfer       0.45      0.56      0.50      7050\n",
      "\n",
      "    avg / total       0.38      0.46      0.41     23474\n",
      "\n"
     ]
    },
    {
     "name": "stderr",
     "output_type": "stream",
     "text": [
      "C:\\Users\\Brad Eledge\\Anaconda3\\lib\\site-packages\\sklearn\\metrics\\classification.py:1113: UndefinedMetricWarning: Precision and F-score are ill-defined and being set to 0.0 in labels with no predicted samples.\n",
      "  'precision', 'predicted', average, warn_for)\n"
     ]
    }
   ],
   "source": [
    "print(classification_report(y_test, predictions))"
   ]
  },
  {
   "cell_type": "code",
   "execution_count": 31,
   "metadata": {
    "_cell_guid": "25a72de3-e768-4227-8f29-d720323d9431",
    "_uuid": "5e5f699356a3d53e82f90028ba0e9b6c309a954a"
   },
   "outputs": [
    {
     "data": {
      "text/plain": [
       "RandomForestClassifier(bootstrap=True, class_weight=None, criterion='gini',\n",
       "            max_depth=None, max_features='auto', max_leaf_nodes=None,\n",
       "            min_impurity_split=1e-07, min_samples_leaf=1,\n",
       "            min_samples_split=2, min_weight_fraction_leaf=0.0,\n",
       "            n_estimators=10, n_jobs=1, oob_score=False, random_state=None,\n",
       "            verbose=0, warm_start=False)"
      ]
     },
     "execution_count": 31,
     "metadata": {},
     "output_type": "execute_result"
    }
   ],
   "source": [
    "rfclf = RandomForestClassifier()\n",
    "rfclf.fit(X_train, y_train)"
   ]
  },
  {
   "cell_type": "code",
   "execution_count": 32,
   "metadata": {
    "_cell_guid": "a934ea73-c686-4d41-b20a-ea0ebdb9c8b9",
    "_uuid": "288c1fb58acb6d97c1de95a20375b6325568d4e9"
   },
   "outputs": [
    {
     "data": {
      "text/plain": [
       "0.46489733321973248"
      ]
     },
     "execution_count": 32,
     "metadata": {},
     "output_type": "execute_result"
    }
   ],
   "source": [
    "rfclf_predictions = rfclf.predict(X_test)\n",
    "\n",
    "accuracy_score(y_test, rfclf_predictions)"
   ]
  },
  {
   "cell_type": "code",
   "execution_count": 33,
   "metadata": {
    "_cell_guid": "204322c1-9287-4445-955a-1909785d6721",
    "_uuid": "7b29a9267808d9fd9a8ccafd217a38b8ea26fbaf"
   },
   "outputs": [
    {
     "name": "stdout",
     "output_type": "stream",
     "text": [
      "                 precision    recall  f1-score   support\n",
      "\n",
      "       Adoption       0.45      0.61      0.52      9934\n",
      "           Died       0.00      0.00      0.00       204\n",
      "       Disposal       0.00      0.00      0.00        92\n",
      "     Euthanasia       0.69      0.49      0.57      1824\n",
      "        Missing       0.00      0.00      0.00        14\n",
      "       Relocate       0.00      0.00      0.00         5\n",
      "Return to Owner       0.00      0.00      0.00      4306\n",
      "      Rto-Adopt       0.00      0.00      0.00        45\n",
      "       Transfer       0.45      0.56      0.50      7050\n",
      "\n",
      "    avg / total       0.38      0.46      0.41     23474\n",
      "\n"
     ]
    },
    {
     "name": "stderr",
     "output_type": "stream",
     "text": [
      "C:\\Users\\Brad Eledge\\Anaconda3\\lib\\site-packages\\sklearn\\metrics\\classification.py:1113: UndefinedMetricWarning: Precision and F-score are ill-defined and being set to 0.0 in labels with no predicted samples.\n",
      "  'precision', 'predicted', average, warn_for)\n"
     ]
    }
   ],
   "source": [
    "rfclf_predictions = rfclf.predict(X_test)\n",
    "\n",
    "print(classification_report(y_test, rfclf_predictions))"
   ]
  },
  {
   "cell_type": "markdown",
   "metadata": {
    "_cell_guid": "ef814db7-0df5-4341-91fe-ef7030b66cda",
    "_uuid": "ad99cf84236a3b8109b514133026546c313b92d3"
   },
   "source": [
    "# Model 3 (Animal Subtype Feature Variable):"
   ]
  },
  {
   "cell_type": "code",
   "execution_count": 34,
   "metadata": {
    "_cell_guid": "9e9247d4-05d9-4a28-aa41-e7d02e21842d",
    "_uuid": "a2ea55b8b378a98b3712a2744237ac533cc65c66"
   },
   "outputs": [
    {
     "data": {
      "text/plain": [
       "DecisionTreeClassifier(class_weight=None, criterion='gini', max_depth=3,\n",
       "            max_features=None, max_leaf_nodes=None,\n",
       "            min_impurity_split=1e-07, min_samples_leaf=1,\n",
       "            min_samples_split=2, min_weight_fraction_leaf=0.0,\n",
       "            presort=False, random_state=None, splitter='best')"
      ]
     },
     "execution_count": 34,
     "metadata": {},
     "output_type": "execute_result"
    }
   ],
   "source": [
    "df = pd.get_dummies(MLSubtype[['outcome_subtype']])\n",
    "X = df\n",
    "y = MLSubtype.outcome_type\n",
    "\n",
    "clf = DecisionTreeClassifier(max_depth=3)\n",
    "\n",
    "X_train, X_test, y_train, y_test = train_test_split(X, y, test_size=0.3,\n",
    "                                                    random_state=0, stratify=y)\n",
    "\n",
    "clf.fit(X_train, y_train)"
   ]
  },
  {
   "cell_type": "code",
   "execution_count": 35,
   "metadata": {
    "_cell_guid": "54fbf1a0-6e2e-430a-b7e5-2922f1a1ca43",
    "_uuid": "70a8329f0579df3b6ec6a54fd2e9207e02615adb"
   },
   "outputs": [
    {
     "data": {
      "text/plain": [
       "0.9540272499768282"
      ]
     },
     "execution_count": 35,
     "metadata": {},
     "output_type": "execute_result"
    }
   ],
   "source": [
    "predictions = clf.predict(X_test)\n",
    "\n",
    "accuracy_score(y_test, predictions)"
   ]
  },
  {
   "cell_type": "code",
   "execution_count": 36,
   "metadata": {
    "_cell_guid": "0309d13d-96c1-402e-b6bf-205190fc62da",
    "_uuid": "79db7382af13ad1a9d2e74238c3f07008417c532"
   },
   "outputs": [
    {
     "name": "stdout",
     "output_type": "stream",
     "text": [
      "             precision    recall  f1-score   support\n",
      "\n",
      "   Adoption       1.00      0.93      0.96      1778\n",
      "       Died       0.00      0.00      0.00       178\n",
      " Euthanasia       0.78      1.00      0.88      1773\n",
      "    Missing       0.00      0.00      0.00        10\n",
      "   Transfer       1.00      0.97      0.99      7050\n",
      "\n",
      "avg / total       0.95      0.95      0.95     10789\n",
      "\n"
     ]
    },
    {
     "name": "stderr",
     "output_type": "stream",
     "text": [
      "C:\\Users\\Brad Eledge\\Anaconda3\\lib\\site-packages\\sklearn\\metrics\\classification.py:1113: UndefinedMetricWarning: Precision and F-score are ill-defined and being set to 0.0 in labels with no predicted samples.\n",
      "  'precision', 'predicted', average, warn_for)\n"
     ]
    }
   ],
   "source": [
    "print(classification_report(y_test, predictions))"
   ]
  },
  {
   "cell_type": "code",
   "execution_count": 37,
   "metadata": {
    "_cell_guid": "33449c27-0afb-4d29-96d9-b9ce701ab871",
    "_uuid": "750ac8cc130b1f13f58b144c3027be35d5d080cc"
   },
   "outputs": [
    {
     "data": {
      "text/plain": [
       "RandomForestClassifier(bootstrap=True, class_weight=None, criterion='gini',\n",
       "            max_depth=None, max_features='auto', max_leaf_nodes=None,\n",
       "            min_impurity_split=1e-07, min_samples_leaf=1,\n",
       "            min_samples_split=2, min_weight_fraction_leaf=0.0,\n",
       "            n_estimators=10, n_jobs=1, oob_score=False, random_state=None,\n",
       "            verbose=0, warm_start=False)"
      ]
     },
     "execution_count": 37,
     "metadata": {},
     "output_type": "execute_result"
    }
   ],
   "source": [
    "rfclf = RandomForestClassifier()\n",
    "rfclf.fit(X_train, y_train)"
   ]
  },
  {
   "cell_type": "code",
   "execution_count": 38,
   "metadata": {
    "_cell_guid": "88f2a514-b2f2-449b-a525-f1176c816001",
    "_uuid": "b0d883f730538afd505d473de5057810d210f1b9"
   },
   "outputs": [
    {
     "data": {
      "text/plain": [
       "0.99879506905181203"
      ]
     },
     "execution_count": 38,
     "metadata": {},
     "output_type": "execute_result"
    }
   ],
   "source": [
    "rfclf_predictions = rfclf.predict(X_test)\n",
    "\n",
    "accuracy_score(y_test, rfclf_predictions)"
   ]
  },
  {
   "cell_type": "code",
   "execution_count": 39,
   "metadata": {
    "_cell_guid": "1cf1fd71-f807-4ba0-a656-9c26a5a52418",
    "_uuid": "023cf67bd95a4d20ef8de4ac8e83df09db07cbb4"
   },
   "outputs": [
    {
     "name": "stdout",
     "output_type": "stream",
     "text": [
      "             precision    recall  f1-score   support\n",
      "\n",
      "   Adoption       1.00      1.00      1.00      1778\n",
      "       Died       0.94      1.00      0.97       178\n",
      " Euthanasia       1.00      1.00      1.00      1773\n",
      "    Missing       1.00      0.30      0.46        10\n",
      "   Transfer       1.00      1.00      1.00      7050\n",
      "\n",
      "avg / total       1.00      1.00      1.00     10789\n",
      "\n"
     ]
    }
   ],
   "source": [
    "rfclf_predictions = rfclf.predict(X_test)\n",
    "\n",
    "print(classification_report(y_test, rfclf_predictions))"
   ]
  },
  {
   "cell_type": "markdown",
   "metadata": {
    "_cell_guid": "bac3af88-d32a-4aac-86f9-e3e677c178a7",
    "_uuid": "4710e192d91cb56742868639062acecc2c7db405"
   },
   "source": [
    "# Model 4 (Animal Sex Feature Variable):"
   ]
  },
  {
   "cell_type": "code",
   "execution_count": 40,
   "metadata": {
    "_cell_guid": "8171fe8a-4f8c-4be9-a993-f0ac2532b9e6",
    "_uuid": "2ae49cd86e4a660d0ddaa0d7551f46e2bb3d2f12"
   },
   "outputs": [
    {
     "data": {
      "text/plain": [
       "0.59607888245593854"
      ]
     },
     "execution_count": 40,
     "metadata": {},
     "output_type": "execute_result"
    }
   ],
   "source": [
    "df = pd.get_dummies(MLSex[['sex_upon_outcome']])\n",
    "X = df\n",
    "y = MLSex.outcome_type\n",
    "\n",
    "clf = DecisionTreeClassifier(max_depth=3)\n",
    "clf.fit(X, y)\n",
    "y_hat = clf.predict(df)\n",
    "accuracy_score(y, y_hat)"
   ]
  },
  {
   "cell_type": "code",
   "execution_count": 41,
   "metadata": {
    "_cell_guid": "a834b5a0-c0ea-4254-8161-5f5fda57da91",
    "_uuid": "578fd4858d9ff1d5af772ed18386be3b9c9b0b0c"
   },
   "outputs": [
    {
     "data": {
      "text/plain": [
       "DecisionTreeClassifier(class_weight=None, criterion='gini', max_depth=3,\n",
       "            max_features=None, max_leaf_nodes=None,\n",
       "            min_impurity_split=1e-07, min_samples_leaf=1,\n",
       "            min_samples_split=2, min_weight_fraction_leaf=0.0,\n",
       "            presort=False, random_state=None, splitter='best')"
      ]
     },
     "execution_count": 41,
     "metadata": {},
     "output_type": "execute_result"
    }
   ],
   "source": [
    "clf = DecisionTreeClassifier(max_depth=3)\n",
    "\n",
    "X_train, X_test, y_train, y_test = train_test_split(X, y, test_size=0.3,\n",
    "                                                    random_state=0, stratify=y)\n",
    "\n",
    "clf.fit(X_train, y_train)"
   ]
  },
  {
   "cell_type": "code",
   "execution_count": 42,
   "metadata": {
    "_cell_guid": "816468ce-104d-4525-ae5b-d4363eb63c8d",
    "_uuid": "62fb4151fb3ecd351f1ca568b40b87552617b8a5"
   },
   "outputs": [
    {
     "data": {
      "text/plain": [
       "0.59740978997145655"
      ]
     },
     "execution_count": 42,
     "metadata": {},
     "output_type": "execute_result"
    }
   ],
   "source": [
    "predictions = clf.predict(X_test)\n",
    "\n",
    "accuracy_score(y_test, predictions)"
   ]
  },
  {
   "cell_type": "code",
   "execution_count": 43,
   "metadata": {
    "_cell_guid": "535454df-2412-4083-b89a-2e9854efc08b",
    "_uuid": "6c82452a283abdf24ba0dfd272bbcad29816e8ae"
   },
   "outputs": [
    {
     "name": "stdout",
     "output_type": "stream",
     "text": [
      "                 precision    recall  f1-score   support\n",
      "\n",
      "       Adoption       0.60      0.95      0.74      9933\n",
      "           Died       0.00      0.00      0.00       204\n",
      "       Disposal       0.00      0.00      0.00        92\n",
      "     Euthanasia       0.48      0.53      0.50      1824\n",
      "        Missing       0.00      0.00      0.00        14\n",
      "       Relocate       0.00      0.00      0.00         5\n",
      "Return to Owner       0.00      0.00      0.00      4306\n",
      "      Rto-Adopt       0.00      0.00      0.00        45\n",
      "       Transfer       0.63      0.51      0.56      7050\n",
      "\n",
      "    avg / total       0.48      0.60      0.52     23473\n",
      "\n"
     ]
    },
    {
     "name": "stderr",
     "output_type": "stream",
     "text": [
      "C:\\Users\\Brad Eledge\\Anaconda3\\lib\\site-packages\\sklearn\\metrics\\classification.py:1113: UndefinedMetricWarning: Precision and F-score are ill-defined and being set to 0.0 in labels with no predicted samples.\n",
      "  'precision', 'predicted', average, warn_for)\n"
     ]
    }
   ],
   "source": [
    "print(classification_report(y_test, predictions))"
   ]
  },
  {
   "cell_type": "code",
   "execution_count": 44,
   "metadata": {
    "_cell_guid": "1188ef2f-33ff-4533-87a5-e09e46a0c25c",
    "_uuid": "302e6e4a36392ec13e5f3a94dc82b62888e3781b"
   },
   "outputs": [
    {
     "data": {
      "text/plain": [
       "RandomForestClassifier(bootstrap=True, class_weight=None, criterion='gini',\n",
       "            max_depth=None, max_features='auto', max_leaf_nodes=None,\n",
       "            min_impurity_split=1e-07, min_samples_leaf=1,\n",
       "            min_samples_split=2, min_weight_fraction_leaf=0.0,\n",
       "            n_estimators=10, n_jobs=1, oob_score=False, random_state=None,\n",
       "            verbose=0, warm_start=False)"
      ]
     },
     "execution_count": 44,
     "metadata": {},
     "output_type": "execute_result"
    }
   ],
   "source": [
    "rfclf = RandomForestClassifier()\n",
    "rfclf.fit(X_train, y_train)"
   ]
  },
  {
   "cell_type": "code",
   "execution_count": 45,
   "metadata": {
    "_cell_guid": "47a2b817-820b-4013-9b5f-05f9854a1989",
    "_uuid": "99ff5633b04c780853067d7514535eb0527182ea"
   },
   "outputs": [
    {
     "data": {
      "text/plain": [
       "0.59740978997145655"
      ]
     },
     "execution_count": 45,
     "metadata": {},
     "output_type": "execute_result"
    }
   ],
   "source": [
    "rfclf_predictions = rfclf.predict(X_test)\n",
    "\n",
    "accuracy_score(y_test, rfclf_predictions)"
   ]
  },
  {
   "cell_type": "code",
   "execution_count": 46,
   "metadata": {
    "_cell_guid": "d47f8b25-117c-4210-93d1-f790a4a2b8eb",
    "_uuid": "54d6439ffa2f860daa128ab84cd5ccb3206d2c64"
   },
   "outputs": [
    {
     "name": "stdout",
     "output_type": "stream",
     "text": [
      "                 precision    recall  f1-score   support\n",
      "\n",
      "       Adoption       0.60      0.95      0.74      9933\n",
      "           Died       0.00      0.00      0.00       204\n",
      "       Disposal       0.00      0.00      0.00        92\n",
      "     Euthanasia       0.48      0.53      0.50      1824\n",
      "        Missing       0.00      0.00      0.00        14\n",
      "       Relocate       0.00      0.00      0.00         5\n",
      "Return to Owner       0.00      0.00      0.00      4306\n",
      "      Rto-Adopt       0.00      0.00      0.00        45\n",
      "       Transfer       0.63      0.51      0.56      7050\n",
      "\n",
      "    avg / total       0.48      0.60      0.52     23473\n",
      "\n"
     ]
    },
    {
     "name": "stderr",
     "output_type": "stream",
     "text": [
      "C:\\Users\\Brad Eledge\\Anaconda3\\lib\\site-packages\\sklearn\\metrics\\classification.py:1113: UndefinedMetricWarning: Precision and F-score are ill-defined and being set to 0.0 in labels with no predicted samples.\n",
      "  'precision', 'predicted', average, warn_for)\n"
     ]
    }
   ],
   "source": [
    "print(classification_report(y_test, rfclf_predictions))"
   ]
  },
  {
   "cell_type": "markdown",
   "metadata": {
    "_cell_guid": "edb09346-89cf-4bcb-b9a5-f601c032e3d4",
    "_uuid": "990b9ad051a6e9c4d3918c842feb1faca5f05673"
   },
   "source": [
    "It looks like Animal Subtype performs the best, and is the most reliable feature variable for determining adoption, according to the machine learning models."
   ]
  },
  {
   "cell_type": "code",
   "execution_count": null,
   "metadata": {
    "_cell_guid": "6afe9bbe-d848-4588-812a-3e956e357c47",
    "_uuid": "c938cf1830f2595a39ef8c528cd72e6c6e338fd4",
    "collapsed": true
   },
   "outputs": [],
   "source": []
  },
  {
   "cell_type": "code",
   "execution_count": null,
   "metadata": {
    "collapsed": true
   },
   "outputs": [],
   "source": []
  },
  {
   "cell_type": "code",
   "execution_count": null,
   "metadata": {
    "collapsed": true
   },
   "outputs": [],
   "source": []
  },
  {
   "cell_type": "code",
   "execution_count": null,
   "metadata": {
    "collapsed": true
   },
   "outputs": [],
   "source": [
    "\n"
   ]
  }
 ],
 "metadata": {
  "kernelspec": {
   "display_name": "Python 3",
   "language": "python",
   "name": "python3"
  },
  "language_info": {
   "codemirror_mode": {
    "name": "ipython",
    "version": 3
   },
   "file_extension": ".py",
   "mimetype": "text/x-python",
   "name": "python",
   "nbconvert_exporter": "python",
   "pygments_lexer": "ipython3",
   "version": "3.6.1"
  }
 },
 "nbformat": 4,
 "nbformat_minor": 1
}
